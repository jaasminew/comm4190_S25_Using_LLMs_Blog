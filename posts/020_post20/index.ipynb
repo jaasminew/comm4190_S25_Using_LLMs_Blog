{
 "cells": [
  {
   "cell_type": "raw",
   "id": "5c5987ae-b4fa-40c6-b512-4348324268e3",
   "metadata": {},
   "source": [
    "---\n",
    "title: \"Experimenting with smaller LLMs on Ollama\"\n",
    "description: \"After closely investigating Google's AI tools, I decided to apply those insights to my own AI ideation application. Here's a brief overview of my reflection. \"\n",
    "author: \"Jasmine Wang\"\n",
    "date: \"4/21/2025\"\n",
    "categories:\n",
    "  - product development\n",
    "  - creativity\n",
    "  - ideation\n",
    "  - reflections\n",
    "---"
   ]
  }
 ],
 "metadata": {
  "citation-manager": {
   "items": {}
  },
  "kernelspec": {
   "display_name": "Python 3-12 (COMM4190)",
   "language": "python",
   "name": "python3-12_comm4190"
  },
  "language_info": {
   "codemirror_mode": {
    "name": "ipython",
    "version": 3
   },
   "file_extension": ".py",
   "mimetype": "text/x-python",
   "name": "python",
   "nbconvert_exporter": "python",
   "pygments_lexer": "ipython3",
   "version": "3.12.8"
  }
 },
 "nbformat": 4,
 "nbformat_minor": 5
}
