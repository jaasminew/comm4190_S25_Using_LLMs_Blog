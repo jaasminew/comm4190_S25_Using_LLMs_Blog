{
 "cells": [
  {
   "cell_type": "raw",
   "id": "84efcdc9-a26a-4c4c-94ec-fb7fd1643833",
   "metadata": {},
   "source": [
    "---\n",
    "title: \"An Investigation Into the Creativity of LLMs Through Ideation\"\n",
    "description: \"Testing the strengths and constraints of LLMs ideating capability\"\n",
    "author: \"Jasmine Wang\"\n",
    "date: \"1/30/2025\"\n",
    "categories:\n",
    "  - LLMs\n",
    "  - prompting\n",
    "  - creativity\n",
    "  - ideation\n",
    "---"
   ]
  },
  {
   "cell_type": "markdown",
   "id": "1a0094a3-61ea-4947-b561-5a07d8838f3a",
   "metadata": {},
   "source": [
    "# Creativity in Artificial Intelligence\n",
    "\n",
    "Large Language Models (LLMs) have been intensively used in a lot of productivity settings, and they are notably good at data analysis, problem solving, and knowledge retrieval and synthesis.  While they are often assumed to be useful for idea generation, their actual strengths and limitations in producing original and feasible ideas remain underexplored.\n",
    "\n",
    "Drawing inspiration from research on creativity in Artificial Intelligence tools, I set out to investigate LLMs’ capabilities in creative idea generation through a human-machine collaborative ideation session. Through multiple experiments, I aim to understand which collaborative role played by LLM is the most effective and inspring in the ideation setting."
   ]
  },
  {
   "cell_type": "markdown",
   "id": "3df0e3bb-8e14-4130-aab0-7e4e22664ac9",
   "metadata": {},
   "source": [
    "## The Models I'm Testing With\n",
    "\n",
    "For the experiments, I will be testing a mix of models to compare their capabilities, biases, and effectiveness in different ideation roles.\n",
    "\n",
    "- GPT-4 (OpenAI)\n",
    "- Claude 3 (Anthropic)\n",
    "- DeepSeek-V2 (DeepSeek AI)"
   ]
  },
  {
   "cell_type": "markdown",
   "id": "3ed5c47f-577f-451b-85f2-2323ed04c5de",
   "metadata": {},
   "source": [
    "## LLM Collaborative Roles In Human-machine Collaboration\n",
    "\n",
    "To break down LLMs’ contributions to idea generation, I categorize their roles into **Generator**, **Prompter**, and **Refiner**. \n",
    "\n",
    "- The **Generator** role puts the LLM in the driver’s seat, allowing it to take full control of idea creation with minimal human input.\n",
    "- The **Prompter** role flips the dynamic, positioning the LLM as a guide that stimulates human creativity by posing thought-provoking questions and suggestions.\n",
    "- The **Refiner** role focuses on polishing and enhancing existing ideas given by human, helping to improve clarity, coherence, and feasibility.\n",
    "\n",
    "By testing these roles across different models, I aim to uncover which approach is the most effective in a collaborative ideation setting."
   ]
  },
  {
   "cell_type": "markdown",
   "id": "e1ed751c-cfb4-48c6-986d-2b15a323362b",
   "metadata": {},
   "source": [
    "## Experiments with LLMs\n",
    "The base prompt:\n",
    "\n",
    "Many founders in the Wharton School have great technical skills but lack design input in their founder teams. This generates needs for high-quality product design and graphic design. Please help me generate a tool\n",
    "\n",
    "### GPT-4"
   ]
  }
 ],
 "metadata": {
  "kernelspec": {
   "display_name": "Python 3-12 (COMM4190)",
   "language": "python",
   "name": "python3-12_comm4190"
  },
  "language_info": {
   "codemirror_mode": {
    "name": "ipython",
    "version": 3
   },
   "file_extension": ".py",
   "mimetype": "text/x-python",
   "name": "python",
   "nbconvert_exporter": "python",
   "pygments_lexer": "ipython3",
   "version": "3.12.8"
  }
 },
 "nbformat": 4,
 "nbformat_minor": 5
}
