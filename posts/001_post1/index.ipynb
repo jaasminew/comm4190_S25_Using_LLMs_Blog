{
 "cells": [
  {
   "cell_type": "raw",
   "id": "84efcdc9-a26a-4c4c-94ec-fb7fd1643833",
   "metadata": {},
   "source": [
    "---\n",
    "title: \"An Investigation Into the Creativity of LLMs Through Ideation\"\n",
    "description: \"Testing the strengths and constraints of LLMs ideating capability\"\n",
    "author: \"Jasmine Wang\"\n",
    "date: \"1/30/2025\"\n",
    "categories:\n",
    "  - LLMs\n",
    "  - prompting\n",
    "  - creativity\n",
    "  - ideation\n",
    "---"
   ]
  },
  {
   "cell_type": "markdown",
   "id": "1a0094a3-61ea-4947-b561-5a07d8838f3a",
   "metadata": {},
   "source": [
    "# Creativity in Artificial Intelligence\n",
    "\n",
    "Large Language Models (LLMs) have been intensively used in a lot of productivity settings, and they are notably good at data analysis, problem solving, and knowledge retrieval and synthesis.  While they are often assumed to be useful for idea generation, their actual strengths and limitations in producing original and feasible ideas remain underexplored.\n",
    "\n",
    "Drawing inspiration from research on creativity in Artificial Intelligence tools, I set out to investigate LLMs’ capabilities in creative idea generation through a human-machine collaborative ideation session. Through multiple experiments, I aim to understand which collaborative role played by LLM is the most effective and inspring in the ideation setting."
   ]
  },
  {
   "cell_type": "markdown",
   "id": "3df0e3bb-8e14-4130-aab0-7e4e22664ac9",
   "metadata": {},
   "source": [
    "## The Models I'm Testing With\n",
    "\n",
    "For the experiments, I will be testing a mix of models to compare their capabilities, biases, and effectiveness in different ideation roles.\n",
    "\n",
    "- GPT-4 (OpenAI)\n",
    "- Claude 3 (Anthropic)\n",
    "- DeepSeek-V2 (DeepSeek AI)"
   ]
  },
  {
   "cell_type": "markdown",
   "id": "3ed5c47f-577f-451b-85f2-2323ed04c5de",
   "metadata": {},
   "source": [
    "## LLM Collaborative Roles In Human-machine Collaboration\n",
    "\n",
    "To break down LLMs’ contributions to idea generation, I categorize their roles into **Generator**, **Prompter**, and **Refiner**. \n",
    "\n",
    "- The **Generator** role puts the LLM in the driver’s seat, allowing it to take full control of idea creation with minimal human input.\n",
    "- The **Prompter** role flips the dynamic, positioning the LLM as a guide that stimulates human creativity by posing thought-provoking questions and suggestions.\n",
    "- The **Refiner** role focuses on polishing and enhancing existing ideas given by human, helping to improve clarity, coherence, and feasibility.\n",
    "\n",
    "By testing these roles across different models, I aim to uncover which approach is the most effective in a collaborative ideation setting."
   ]
  },
  {
   "cell_type": "markdown",
   "id": "e1ed751c-cfb4-48c6-986d-2b15a323362b",
   "metadata": {},
   "source": [
    "## Experiments with LLMs\n",
    "The base prompt:\n",
    "\n",
    ">Many small-scale startup founders have strong technical skills but lack design expertise within their teams. They need **cost-effective**, high-quality product and graphic design support but have a **limited budget**. Hiring a full-time product or graphic designer is not cost-effective for them at this stage, as they are still testing their MVP and validating product-market fit.\n",
    ">\n",
    ">Their primary goal is to **get fundamental design work done**—whether for their product UI, branding, or marketing—so they can present a functional and visually coherent version to early users and investors. They are not looking for perfect, highly polished design but rather a solid starting point that can be refined later once they achieve growth.\n",
    ">\n",
    ">Please generate profitable product ideas (tools, platforms, or services) that effectively address this gap. The solution should be:\n",
    ">- Descent quality of design that is visually appealing and credible enough to engage early users and investors\n",
    ">- Affordable compared to hiring a dedicated designer\n",
    ">- Fast and efficient for founders who need quick, functional results\n",
    ">- Scalable so it remains profitable while serving multiple startups\n",
    ">\n",
    ">The target customers are small-scale startup founders who prioritize functionality over perfection but still want fair-quality design to establish credibility in the early stages.\n",
    "\n",
    "### LLMs as idea generators\n",
    "On top of the base prompt, I told the LLM that\n",
    ">\"I want you to take the dominant role in the idea generation process, meaning that you are the one who's responsible for thinking of as many ideas as possible, while also trying to maintain the originality and feasibility of the idea. I'm going to be the judge, and will reward you if the ideas you are generating satisfy the standards I described above.\"\n",
    "\n",
    "I started with GPT-4. For the first run, it came up with 8 ideas. All ideas are of fair quality, meaning that they possess the basic feasibility and attractiveness to early users and investors. The response follows a well-organized structure, consisting a description, key features, a revenue model, and an explanation of why it works. \n",
    "\n",
    "However, most ideas are very **generic** and **homogeneous**. Other than being framed differently, the core of the ideas remains the same. Boiling down to its core, the 8 ideas can be reorganized and combined into 3. All of them except 2 are heavily AI-focused, with very similar product offerings.\n",
    "\n",
    "Here's a glimpse of GPT-4's response.\n",
    "\n",
    "![](GPT-4-response1.png)\n",
    "\n",
    "\n",
    "Then I manually selected two ideas and prompted the model to expand on them. This time, I provided a clear structure and asked the model to **self-evaluate** its own responses based on originality, feasibility, and attractiveness. Additionally, I requested a feasibility analysis, outlining the top technical or social challenges and potential solutions. In the end, the model generated an overall idea quality summary, synthesizing the ratings across different aspects. \n",
    "\n",
    "![](GPT-4-response2.png)\n",
    "![](GPT-4-response3.png)\n",
    "![](GPT-4-response4.png)\n",
    "![](GPT-4-response5.png)\n",
    "\n",
    "I tested the same prompt in Claude 3 and Deepseek-v2, each yielding very similar ideas and responses. \n",
    "\n",
    "#### Summary\n",
    "Based on the test results, I found that LLMs are more effective at **expanding concrete ideas**—answering questions and elaborating on details—rather than generating truly innovative or groundbreaking concepts. During the ideation process, the ideas generated by different Large Language Models tended to be quite homogeneous, with similar core offerings and technologies appearing across multiple suggestions.\n",
    "\n",
    "However, LLMs are exceptionally good at idea expansion, helping to identify blind spots that humans might initially overlook. When I asked the model to list key and stretch features, along with potential challenges, its insights were particularly valuable in providing a comprehensive and nuanced understanding of the market landscape.\n",
    "\n",
    "From this observation, my key takeaways are:\n",
    "- When crafting prompts, place strong emphasis on **defining your target market and customers**. The more niche and specific the problem space, the more original and unique the generated ideas will be.\n",
    "- Embrace LLMs as great helpers in the initial brainstorming stage. While they may not be the best at generating breakthrough ideas, they provide valuable insights on product development that humans might easily overlook."
   ]
  },
  {
   "cell_type": "code",
   "execution_count": null,
   "id": "3030fa62-683e-410d-acd6-3d7fbe72f115",
   "metadata": {},
   "outputs": [],
   "source": []
  }
 ],
 "metadata": {
  "kernelspec": {
   "display_name": "Python 3-12 (COMM4190)",
   "language": "python",
   "name": "python3-12_comm4190"
  },
  "language_info": {
   "codemirror_mode": {
    "name": "ipython",
    "version": 3
   },
   "file_extension": ".py",
   "mimetype": "text/x-python",
   "name": "python",
   "nbconvert_exporter": "python",
   "pygments_lexer": "ipython3",
   "version": "3.12.8"
  }
 },
 "nbformat": 4,
 "nbformat_minor": 5
}
