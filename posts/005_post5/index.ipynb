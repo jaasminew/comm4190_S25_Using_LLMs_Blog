{
 "cells": [
  {
   "cell_type": "raw",
   "id": "d10c83d6-f00e-4a6b-adc9-2969e6f672ce",
   "metadata": {},
   "source": [
    "---\n",
    "title: \"Building A Better Ideation Partner 2\"\n",
    "description: \"Inspired by my experiments with LLMs, I set out to build an ideation partner using Open AI API, that helps humans yield better ideation results than a basic idea generator.\"\n",
    "author: \"Jasmine Wang\"\n",
    "date: \"2/8/2025\"\n",
    "categories:\n",
    "  - LLMs\n",
    "  - product development\n",
    "  - creativity\n",
    "  - ideation\n",
    "---"
   ]
  },
  {
   "cell_type": "markdown",
   "id": "b5e54ef7-3aef-45f8-8da8-b62eb1b69a7a",
   "metadata": {},
   "source": [
    "## Ideating Environment Setup\n",
    "\n",
    "\n",
    "### 1. Disect the brainstorming procedure\n",
    "This is the first message I send to GPT to set up the conversation. After disection, it can be broken down into three parts: assigning roles, providing context, setting requirements.\n",
    "\n",
    "Step 1: assigning roles.\n",
    "As a typical starting point of prompt engineering, I set the role of the LLM to ideation assistance.\n",
    "\n",
    "### 2. Synthesize into prompts\n",
    "### 3. Form a template"
   ]
  }
 ],
 "metadata": {
  "kernelspec": {
   "display_name": "Python 3-12 (COMM4190)",
   "language": "python",
   "name": "python3-12_comm4190"
  },
  "language_info": {
   "codemirror_mode": {
    "name": "ipython",
    "version": 3
   },
   "file_extension": ".py",
   "mimetype": "text/x-python",
   "name": "python",
   "nbconvert_exporter": "python",
   "pygments_lexer": "ipython3",
   "version": "3.12.8"
  }
 },
 "nbformat": 4,
 "nbformat_minor": 5
}
