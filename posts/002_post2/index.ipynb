{
 "cells": [
  {
   "cell_type": "raw",
   "id": "93e9c05b-07b6-4e38-8510-2f3fb493929a",
   "metadata": {},
   "source": [
    "---\n",
    "title: \"An Investigation Into the Creativity of LLMs Through Ideation 2\"\n",
    "description: \"Testing the strengths and constraints of LLMs ideating capability\"\n",
    "author: \"Jasmine Wang\"\n",
    "date: \"2/1/2025\"\n",
    "categories:\n",
    "  - LLMs\n",
    "  - prompting\n",
    "  - creativity\n",
    "  - ideation\n",
    "---"
   ]
  },
  {
   "cell_type": "markdown",
   "id": "c4f2a6bb-1711-4c43-a67e-a0fd9f8355ad",
   "metadata": {},
   "source": [
    "# Human can't be replaced\n",
    "After experimenting with different collaborative roles for LLMs, my confidence in human creativity has only grown stronger. While Artificial Intelligence might be exceptionally good at synthesizing information and generating small, creative ideas, it still struggles to produce truly unique business concepts with real commercial potential.\n",
    "\n",
    "However, LLMs are excellent prompters--they are the perfect guide for brainstorming, pushing us to explore ideas more deeply and venture further down the rabbit hole.\n",
    "\n",
    "![](hero-img.jpg)\n",
    "\n",
    "### LLMs as prompters\n",
    "\n",
    "This time, rather than directly asking LLM to generate ideas, I switched our roles and told it to become my prompter by asking thought-proviking questions. With base prompt the same, I added the following:\n",
    "\n",
    "> I want you to do the following:\n",
    "ask me 5 questions that you think might be inspiring in this field and have the potential to expand my thoughts. Based on my answers, you can ask follow-up questions if needed. The questions can be about the context, my personal experience, creative process, interdisciplinary fields, or any aspects that you think might help with the idea generation in the context I provided above."
   ]
  },
  {
   "cell_type": "markdown",
   "id": "d55bb764-b025-4e18-b93e-acd68130388f",
   "metadata": {},
   "source": [
    "Initially, GPT started with some generic questions, following a typical brainstorming procedure. From top to bottom, each question digs deeper and asks something more specific and tangible. One interesting point worth mentioning is the word **templatable** in the fifth question. It precisely captures the essence of the context I provided, even though I never used it in my original prompt. I was impressed by how well the LLM understood and summarized my content, and inferred something implicit from our conversation.\n",
    "\n",
    "![](GPT-response1.png)\n",
    "\n",
    "After I answered the five questions, GPT provided additional feedback by highlighting key points from my responses and posing follow-up questions. Unlike the previous experiment, where GPT took the dominant role in ideation, this time I contributed more information infused with human perspectives and loosely structured ideas. Rather than generating a flood of generic “AI-powered platform” concepts, GPT followed my train of thought, engaging in a **more nuanced dialogu**e and addressing specific questions I had raised in my previous response.\n",
    "\n",
    "![](GPT-response2.png)\n",
    "\n",
    "I gave very positive feedback about the questions it prompted me. But this time, I asked it to not only ask me follow-up questions, but also respond to some of the questions I have left in my response and think together with me.\n",
    "\n",
    "This time, each bullet point header was framed as a question. Below each question, GPT provided insightful responses, followed by several follow-up questions for me to consider. In the end, without being prompted, GPT offered a summary of final thoughts along with potential next steps.\n",
    "\n",
    "![](GPT-response3.png)\n",
    "\n",
    "![](GPT-response4.png)"
   ]
  },
  {
   "cell_type": "markdown",
   "id": "115a9fc5-dd4c-4715-9c92-a13c5934a44e",
   "metadata": {},
   "source": [
    "## What is the game changer\n",
    "\n",
    "I was very satisfied with the result this time. Although we haven't reached an ideal outcome yet, the human-machine collaboration took a promising direction. This made me reflect—what was the game changer?\n",
    "\n",
    "Large Language Models integrate vast amounts of data from the internet, which means their outputs tend to be **the most average**—the statistically most probable responses. However, the most probable idea isn’t necessarily the most feasible, let alone the most creative. This is where human thought and contribution become essential. Unlike AI, our thinking process isn’t constrained by “word embeddings.” Some seemingly unrelated ideas—those that don’t follow predictable patterns—are often the ones that lead to true breakthroughs.\n",
    "\n",
    "So, how exactly can AI support us in this space? As the saying goes, two minds are better than one. By leveraging AI’s ability to expand on concrete ideas and provide tangible solutions, it helps counteract biases and blind spots in human thinking. By flexibly combining the strengths of both human creativity and AI’s analytical capabilities, I found a more natural and effective approach to human-machine collaboration."
   ]
  },
  {
   "cell_type": "markdown",
   "id": "f51fdd56-bdf2-46f1-ad89-e94b5f9243c7",
   "metadata": {},
   "source": [
    "In the next post, I'll be exploring LLMs' strengths and weaknesses as **idea refiner**."
   ]
  },
  {
   "cell_type": "code",
   "execution_count": null,
   "id": "5855f230-0f4e-4df2-9958-4307911d0156",
   "metadata": {},
   "outputs": [],
   "source": []
  }
 ],
 "metadata": {
  "kernelspec": {
   "display_name": "Python 3-12 (COMM4190)",
   "language": "python",
   "name": "python3-12_comm4190"
  },
  "language_info": {
   "codemirror_mode": {
    "name": "ipython",
    "version": 3
   },
   "file_extension": ".py",
   "mimetype": "text/x-python",
   "name": "python",
   "nbconvert_exporter": "python",
   "pygments_lexer": "ipython3",
   "version": "3.12.8"
  }
 },
 "nbformat": 4,
 "nbformat_minor": 5
}
