{
 "cells": [
  {
   "cell_type": "raw",
   "id": "93e9c05b-07b6-4e38-8510-2f3fb493929a",
   "metadata": {},
   "source": [
    "---\n",
    "title: \"An Investigation Into the Creativity of LLMs Through Ideation 2\"\n",
    "description: \"Testing the strengths and constraints of LLMs ideating capability\"\n",
    "author: \"Jasmine Wang\"\n",
    "date: \"2/1/2025\"\n",
    "categories:\n",
    "  - LLMs\n",
    "  - prompting\n",
    "  - creativity\n",
    "  - ideation\n",
    "---"
   ]
  },
  {
   "cell_type": "code",
   "execution_count": null,
   "id": "23cbd3ff-6b93-4206-b3b5-13c2a81f4a2b",
   "metadata": {},
   "outputs": [],
   "source": []
  }
 ],
 "metadata": {
  "kernelspec": {
   "display_name": "Python 3-12 (COMM4190)",
   "language": "python",
   "name": "python3-12_comm4190"
  },
  "language_info": {
   "codemirror_mode": {
    "name": "ipython",
    "version": 3
   },
   "file_extension": ".py",
   "mimetype": "text/x-python",
   "name": "python",
   "nbconvert_exporter": "python",
   "pygments_lexer": "ipython3",
   "version": "3.12.8"
  }
 },
 "nbformat": 4,
 "nbformat_minor": 5
}
