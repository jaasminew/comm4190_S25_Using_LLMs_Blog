{
 "cells": [
  {
   "cell_type": "raw",
   "id": "afe27e92-534b-439e-9ac2-f8d003688e5b",
   "metadata": {},
   "source": [
    "---\n",
    "title: \"A deep look into Google's AI tools\"\n",
    "description: \"Leanring how Google approaches AI tools that facilitate human-AI collaboration.\"\n",
    "author: \"Jasmine Wang\"\n",
    "date: \"3/26/2025\"\n",
    "categories:\n",
    "  - LLMs\n",
    "  - product review\n",
    "  - NotebookLM\n",
    "  - Learn About\n",
    "  - AI productivity\n",
    "---"
   ]
  },
  {
   "cell_type": "markdown",
   "id": "27b67212-deed-4f34-8efa-377d2c1ac454",
   "metadata": {},
   "source": [
    "In this post, I took a deep dive into three of Google’s AI products: NotebookLM, TextFX and Learn About. My goal was to understand the design philosophy behind Google’s approach to human-AI collaboration, as well as to evaluate the user experience of both tools. I aimed to gather actionable insights that could inform and inspire the development of my own LLM-based application.\n",
    "\n",
    "![](hero-img.jpg)\n",
    "\n",
    "\n",
    "## Learn About\n",
    "\n",
    "Google Learn About is a self-guided learning tool that allows users to explore concepts across a wide range of fields. The learning experience is highly flexible and conversational, driven entirely by the flow of interaction. Users can either continue the conversation by asking their own questions or follow AI-suggested topics to further expand their knowledge.\n",
    "\n",
    "Learn About functions primarily as a resource aggregation tool. It doesn’t create original articles, images, or videos (aside from some text generation), but instead curates existing online resources and generates concise summaries.\n",
    "\n",
    "After answering a user’s question, it provides related webpages and articles to help expand the user’s knowledge network. However, I found this part a bit disruptive—the need to navigate to a new webpage broke the flow and slightly interrupted the overall experience. At the end of each exchange, it offers helpful defaults like “simplify,” “go deeper,” and suggested follow-up questions to guide users who might be unsure how to continue exploring the topic.\n",
    "\n",
    "![](learn-about.png)\n",
    "\n",
    "### Guided freedom\n",
    "Overall, this tool doesn’t differ dramatically from the Google search engine—especially now that AI-powered summarization is integrated into search. However, what sets Learn About apart, and what I personally found to be its most valuable feature, is the thoughtful inclusion of pre-set options for users.\n",
    "\n",
    "The tool strikes a strong balance between freedom and structure. It allows users to navigate topics at their own pace, customizing both the depth and speed of learning. Users can even ask the AI to generate quizzes to test their understanding of a concept. At the same time, Google clearly understands the **anxiety and uncertainty** that can arise when approaching a completely unfamiliar topic.\n",
    "\n",
    "Learn About addresses this by offering **just enough guided pathways** to help users get started—without overwhelming or restricting them. When I tested the tool, I didn’t feel lost the way I often do when learning a new concept on my own, where I typically have no idea where or how to begin. Instead, I was gently guided by a few pre-set paths, which made the learning experience feel far more approachable and manageable.\n",
    "\n",
    "### Everthing is instantly available\n",
    "Another strength of this product is its instant accessibility. Interacting with it is intuitive—users can simply highlight a term and select “What is this?” from a drop-down menu to get immediate explanations. Whether it’s a definition, an image, a concept breakdown, or even a quiz, everything is just one click away, delivered through the most intuitive user interactions.\n",
    "\n",
    "**This ease of accessing information reflects how real learning actually happens.** We rarely absorb knowledge in a perfectly sequential or structured way. Instead, we learn organically, building a web of understanding as new questions arise.\n",
    "\n",
    "What’s more, I can even ask Learn About to generate a mind map of what I’ve learned so far. There are virtually no constraints on the type of output you can request. This kind of multi-modal learning experience not only makes education more engaging but also democratizes access to knowledge and significantly lowers the barriers to learning.\n",
    "\n",
    "![](learn-about-2.png)\n",
    "\n",
    "### Sequential display can be a constraint\n",
    "However, what I don’t love about the experience is also about sequentiality. Due to the constraints of its conversational format, information can only be presented in a linear, turn-by-turn flow. If I want to explore a new concept, I have to start a new conversation turn, which often means losing track of where I was in the previous thread.\n",
    "\n",
    "If I were designing this tool, I might consider using a **canvas-based interface** instead of a traditional chat format. A canvas would allow users to visually organize ideas, maintain context, and more easily form connections between related concepts—making the learning experience more holistic and intuitive."
   ]
  },
  {
   "cell_type": "code",
   "execution_count": null,
   "id": "82345cf0-490d-418c-8759-dd98a8a8990a",
   "metadata": {},
   "outputs": [],
   "source": []
  }
 ],
 "metadata": {
  "citation-manager": {
   "items": {}
  },
  "kernelspec": {
   "display_name": "Python 3-12 (COMM4190)",
   "language": "python",
   "name": "python3-12_comm4190"
  },
  "language_info": {
   "codemirror_mode": {
    "name": "ipython",
    "version": 3
   },
   "file_extension": ".py",
   "mimetype": "text/x-python",
   "name": "python",
   "nbconvert_exporter": "python",
   "pygments_lexer": "ipython3",
   "version": "3.12.8"
  }
 },
 "nbformat": 4,
 "nbformat_minor": 5
}
