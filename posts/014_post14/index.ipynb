{
 "cells": [
  {
   "cell_type": "raw",
   "id": "afe27e92-534b-439e-9ac2-f8d003688e5b",
   "metadata": {},
   "source": [
    "---\n",
    "title: \"A deep look into Google's AI tools\"\n",
    "description: \"Leanring how Google approaches AI tools that facilitate human-AI collaboration.\"\n",
    "author: \"Jasmine Wang\"\n",
    "date: \"3/26/2025\"\n",
    "categories:\n",
    "  - LLMs\n",
    "  - product review\n",
    "  - NotebookLM\n",
    "  - Learn About\n",
    "  - AI productivity\n",
    "---"
   ]
  },
  {
   "cell_type": "markdown",
   "id": "27b67212-deed-4f34-8efa-377d2c1ac454",
   "metadata": {},
   "source": [
    "In this post, I took a deep dive into three of Google’s AI products: NotebookLM, TextFX and Learn About. My goal was to understand the design philosophy behind Google’s approach to human-AI collaboration, as well as to evaluate the user experience of both tools. I aimed to gather actionable insights that could inform and inspire the development of my own LLM-based application.\n",
    "\n",
    "![](hero-img.jpg)\n",
    "\n",
    "\n",
    "## Learn About\n",
    "\n",
    "Google Learn About is a self-guided learning tool that allows users to explore concepts across a wide range of fields. The learning experience is highly flexible and conversational, driven entirely by the flow of interaction. Users can either continue the conversation by asking their own questions or follow AI-suggested topics to further expand their knowledge.\n",
    "\n",
    "Learn About functions primarily as a resource aggregation tool. It doesn’t create original articles, images, or videos (aside from some text generation), but instead curates existing online resources and generates concise summaries.\n",
    "\n",
    "After answering a user’s question, it provides related webpages and articles to help expand the user’s knowledge network. However, I found this part a bit disruptive—the need to navigate to a new webpage broke the flow and slightly interrupted the overall experience. At the end of each exchange, it offers helpful defaults like “simplify,” “go deeper,” and suggested follow-up questions to guide users who might be unsure how to continue exploring the topic.\n",
    "\n",
    "![](learn-about.png)\n",
    "\n",
    "### Guided freedom\n",
    "Overall, this tool doesn’t differ dramatically from the Google search engine—especially now that AI-powered summarization is integrated into search. However, what sets Learn About apart, and what I personally found to be its most valuable feature, is the thoughtful inclusion of pre-set options for users.\n",
    "\n",
    "The tool strikes a strong balance between freedom and structure. It allows users to navigate topics at their own pace, customizing both the depth and speed of learning. Users can even ask the AI to generate quizzes to test their understanding of a concept. At the same time, Google clearly understands the **anxiety and uncertainty** that can arise when approaching a completely unfamiliar topic.\n",
    "\n",
    "Learn About addresses this by offering **just enough guided pathways** to help users get started—without overwhelming or restricting them. When I tested the tool, I didn’t feel lost the way I often do when learning a new concept on my own, where I typically have no idea where or how to begin. Instead, I was gently guided by a few pre-set paths, which made the learning experience feel far more approachable and manageable.\n",
    "\n",
    "### Everthing is instantly available\n",
    "Another strength of this product is its instant accessibility. Interacting with it is intuitive—users can simply highlight a term and select “What is this?” from a drop-down menu to get immediate explanations. Whether it’s a definition, an image, a concept breakdown, or even a quiz, everything is just one click away, delivered through the most intuitive user interactions.\n",
    "\n",
    "**This ease of accessing information reflects how real learning actually happens.** We rarely absorb knowledge in a perfectly sequential or structured way. Instead, we learn organically, building a web of understanding as new questions arise.\n",
    "\n",
    "What’s more, I can even ask Learn About to generate a mind map of what I’ve learned so far. There are virtually no constraints on the type of output you can request. This kind of multi-modal learning experience not only makes education more engaging but also democratizes access to knowledge and significantly lowers the barriers to learning.\n",
    "\n",
    "![](learn-about-2.png)\n",
    "\n",
    "### Sequential display can be a constraint\n",
    "However, what I don’t love about the experience is also about sequentiality. Due to the constraints of its conversational format, information can only be presented in a linear, turn-by-turn flow. If I want to explore a new concept, I have to start a new conversation turn, which often means losing track of where I was in the previous thread.\n",
    "\n",
    "If I were designing this tool, I might consider using a **canvas-based interface** instead of a traditional chat format. A canvas would allow users to visually organize ideas, maintain context, and more easily form connections between related concepts—making the learning experience more holistic and intuitive."
   ]
  },
  {
   "cell_type": "markdown",
   "id": "ac875d1b-29bd-4717-aa3e-c2a52622349e",
   "metadata": {},
   "source": [
    "## TextFX\n",
    "Google TextFX is an experimental creative writing tool powered by generative AI, designed to help writers explore language in fresh and imaginative ways. It fully leverages AI’s generative creativity to venture into unconventional directions of language construction—the kinds of patterns and possibilities that are often overlooked by humans.\n",
    "\n",
    "Here's an example of me using textFX to generate a simile about \"fingerprint\":\n",
    "\n",
    "![](textFX.png)\n",
    "\n",
    "![](textFX-2.png)\n",
    "\n",
    "### Opening an unexpected gift\n",
    "TextFX is quite different from Learn About. While Learn About is a practical, utility-focused tool, TextFX is clearly a creative tool—and you can sense that instantly from the user interface, with its bold, high-contrast colors and simple, playful user interactions.\n",
    "\n",
    "TextFX represents a sweet spot in designing AI tools that are driven by creativity. From the moment I started using it, I noticed that the **user goals are more ambiguous**—people approach it with fewer expectations and more openness to discovery. \n",
    "\n",
    "When comparing the emotional tone between the two tools, I’d describe the mood of using Learn About as **goal-oriented** and **direct**—you’re there to find answers. In contrast, the mood of using TextFX is rooted in **curiosity** and **surprise**. The way it presents outputs feels like **unwrapping an unexpected gift**, and that sense of delight is one of the tool’s most compelling design features.\n",
    "\n",
    "In addition, the tool intentionally minimizes user input—asking only for a word, a concept, or a scene. Based on that, it generates a few sentences that creatively expand on the input. By encouraging users to focus on a single element, TextFX simplifies a more complex creative task, narrowing the objective and refining the output into something more polished and impactful.\n",
    "\n",
    "### Creative prompting\n",
    "What’s also highly relevant to my project is the way Google’s AI team uses prompt engineering to guide the LLM in producing creative outputs. They employ a standardized prompting strategy that includes a brief explanation of the desired output (e.g., what makes a good simile), the intended format, and a few strong examples to set clear expectations.\n",
    "\n",
    "![](textFX-3.png)\n",
    "\n",
    "Watching this in action is quite inspiring, as it reveals strong parallels between creative text generation and ideation—both are, at their core, games of language and concept construction. The capabilities demonstrated by TextFX serve as strong evidence that high-quality idea generation should be well within reach for LLMs.\n",
    "\n",
    "However, TextFX also exposes a common weakness in creative LLM tools. After running around 20 trials, I found that only a handful—fewer than five—felt truly inspiring or exciting. Among the various creative tasks the LLM performs, it excels most at crafting similes and drawing unexpected connections between two concepts. While it handles other tasks reasonably well, the output often feels generic or lacking in creative depth, making it less useful in real-world creative settings.\n",
    "\n",
    "### Balance creativity and utility\n",
    "The biggest takeaway from TextFX is the importance of balancing creativity and utility in an AI tool. The first step toward achieving that balance is to clearly define the primary user goal. TextFX chooses to operate as a purely creative tool, while Learn About is grounded in the practical goal of helping users learn new concepts.\n",
    "\n",
    "In the context of my AI ideation partner, I’m envisioning something that sits between those two extremes. It’s practical—because at its core, it’s a problem-solving tool—but it also needs to be creative, offering fresh perspectives that make it stand out from other brainstorming aids.\n",
    "\n",
    "That means the tool’s primary focus should be on delivering real value to users, just like any practical product. But at the same time, creative touches can and should be intentionally woven into the prompt engineering to spark inspiration and elevate the overall experience."
   ]
  },
  {
   "cell_type": "markdown",
   "id": "cad3a577-124c-40cb-987f-4dc838e36e61",
   "metadata": {},
   "source": [
    "## NotebookLM\n"
   ]
  }
 ],
 "metadata": {
  "citation-manager": {
   "items": {}
  },
  "kernelspec": {
   "display_name": "Python 3-12 (COMM4190)",
   "language": "python",
   "name": "python3-12_comm4190"
  },
  "language_info": {
   "codemirror_mode": {
    "name": "ipython",
    "version": 3
   },
   "file_extension": ".py",
   "mimetype": "text/x-python",
   "name": "python",
   "nbconvert_exporter": "python",
   "pygments_lexer": "ipython3",
   "version": "3.12.8"
  }
 },
 "nbformat": 4,
 "nbformat_minor": 5
}
