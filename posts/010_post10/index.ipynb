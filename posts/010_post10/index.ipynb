{
 "cells": [
  {
   "cell_type": "raw",
   "id": "a9da9bb4-e2b1-4494-92ac-4afad2ff7a9e",
   "metadata": {},
   "source": [
    "---\n",
    "title: \"Prompt engineering for LLM ideation\"\n",
    "description: \"Inspired by my experiments with LLMs, I set out to build an ideation partner using Open AI API, that helps humans yield better ideation results than a basic idea generator.\"\n",
    "author: \"Jasmine Wang\"\n",
    "date: \"3/6/2025\"\n",
    "categories:\n",
    "  - LLMs\n",
    "  - product development\n",
    "  - creativity\n",
    "  - ideation\n",
    "---"
   ]
  },
  {
   "cell_type": "markdown",
   "id": "bb25211a-d603-49ca-bf82-bd1f02d3e31e",
   "metadata": {},
   "source": [
    "# Combining different prompting strategies\n",
    "\n",
    "In the last three posts, I explored different prompting strategies aimed at addressing three major weaknesses of AI-generated ideas. However, these strategies currently feel more independent than interconnected.\n",
    "\n",
    "In this post, I’ll explore how to **construct an integrated prompting approach**—one that combines different strategies into a structured, step-by-step process, guiding users through a more cohesive and effective brainstorming experience.\n",
    "\n",
    "![](hero-img.jpg)"
   ]
  },
  {
   "cell_type": "markdown",
   "id": "9e1adc4c-6a76-43ec-86f2-3b06b3718361",
   "metadata": {},
   "source": [
    "## Center humans in the ideation process\n",
    "\n",
    "As many professionals in the creative industry have pointed out, AI can never replace humans in the creative process—it can only **augment human capabilities**. This is especially true in ideation. It didn’t take many trials for me to realize that pure AI-generated ideas often lack the distinct human touch that makes the work of great product designers or founders truly stand out. There’s still a noticeable gap.\n",
    "\n",
    "However, my exploration of prompt engineering significantly improved the quality of the output. By guiding the LLM to think in terms of nuanced connections, emotional depth, and real-world constraints, the ideas became more refined, and the brainstorming process felt smoother and more productive.\n",
    "\n",
    "At this point, I’ve decided to shift my perspective slightly. Rather than building an AI tool that simply generates as many creative ideas as possible for humans, my goal is to focus on **empowering humans as the primary idea generators**—-using AI for prompting, advising, and co-creating throughout the process.\n",
    "\n",
    "But what do humans really need during brainstorming? This taps into one of the greatest strengths of LLMs—their breadth of knowledge and vast information base. From my own experience, I’ve found that introducing different perspectives is especially powerful for sparking new ideas. When AI leverages its knowledge base to guide the ideation process, offering thoughtful prompts and insights, it becomes a valuable partner in helping humans branch out and explore new directions. Once the bare-bone structure of ideas is formed, AI can then step in to refine and polish the presentation, adding marketing appeal and commercial value to the final concepts.\n",
    "\n",
    "### Pulling together pieces of prompts\n",
    "\n",
    "Using the prompt library by Dr. Ethan Mollick as the primary reference, I break the prompt down into several sections: persona, goal, workflow, and reminder."
   ]
  },
  {
   "cell_type": "code",
   "execution_count": null,
   "id": "9ba3568b-2f1f-4f01-93ea-d94d880429bb",
   "metadata": {},
   "outputs": [],
   "source": []
  }
 ],
 "metadata": {
  "kernelspec": {
   "display_name": "Python 3-12 (COMM4190)",
   "language": "python",
   "name": "python3-12_comm4190"
  },
  "language_info": {
   "codemirror_mode": {
    "name": "ipython",
    "version": 3
   },
   "file_extension": ".py",
   "mimetype": "text/x-python",
   "name": "python",
   "nbconvert_exporter": "python",
   "pygments_lexer": "ipython3",
   "version": "3.12.8"
  }
 },
 "nbformat": 4,
 "nbformat_minor": 5
}
