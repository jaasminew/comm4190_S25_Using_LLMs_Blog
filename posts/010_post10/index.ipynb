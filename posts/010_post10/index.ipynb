{
 "cells": [
  {
   "cell_type": "raw",
   "id": "a9da9bb4-e2b1-4494-92ac-4afad2ff7a9e",
   "metadata": {},
   "source": [
    "---\n",
    "title: \"Prompt engineering for LLM ideation\"\n",
    "description: \"Inspired by my experiments with LLMs, I set out to build an ideation partner using Open AI API, that helps humans yield better ideation results than a basic idea generator.\"\n",
    "author: \"Jasmine Wang\"\n",
    "date: \"3/6/2025\"\n",
    "categories:\n",
    "  - LLMs\n",
    "  - product development\n",
    "  - creativity\n",
    "  - ideation\n",
    "---"
   ]
  },
  {
   "cell_type": "markdown",
   "id": "bb25211a-d603-49ca-bf82-bd1f02d3e31e",
   "metadata": {},
   "source": [
    "# Combining different prompting strategies\n",
    "\n",
    "In the last three posts, I explored different prompting strategies aimed at addressing three major weaknesses of AI-generated ideas. However, these strategies currently feel more independent than interconnected.\n",
    "\n",
    "In this post, I’ll explore how to **construct an integrated prompting approach**—one that combines different strategies into a structured, step-by-step process, guiding users through a more cohesive and effective brainstorming experience.\n",
    "\n",
    "![](hero-img.jpg)"
   ]
  },
  {
   "cell_type": "code",
   "execution_count": null,
   "id": "ac94a4fa-0133-4bc1-a078-5e3b5bbf77bf",
   "metadata": {},
   "outputs": [],
   "source": []
  }
 ],
 "metadata": {
  "kernelspec": {
   "display_name": "Python 3-12 (COMM4190)",
   "language": "python",
   "name": "python3-12_comm4190"
  },
  "language_info": {
   "codemirror_mode": {
    "name": "ipython",
    "version": 3
   },
   "file_extension": ".py",
   "mimetype": "text/x-python",
   "name": "python",
   "nbconvert_exporter": "python",
   "pygments_lexer": "ipython3",
   "version": "3.12.8"
  }
 },
 "nbformat": 4,
 "nbformat_minor": 5
}
