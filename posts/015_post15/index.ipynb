{
 "cells": [
  {
   "cell_type": "raw",
   "id": "e8092208-1075-4155-8956-0cf3e23075fe",
   "metadata": {},
   "source": [
    "---\n",
    "title: \"Applying human-centered design to AI Ideation Partner\"\n",
    "description: \"After closely investigating Google's AI tools, I decided to apply those insights to my own AI ideation application. Here's a brief overview of my reflection. \"\n",
    "author: \"Jasmine Wang\"\n",
    "date: \"3/31/2025\"\n",
    "categories:\n",
    "  - product development\n",
    "  - creativity\n",
    "  - ideation\n",
    "  - reflections\n",
    "---"
   ]
  },
  {
   "cell_type": "markdown",
   "id": "19dfc781-f37d-4d06-b72e-28efd283cf44",
   "metadata": {},
   "source": [
    "## Key takeaways from Learn About, TextFX, and NotebookLM\n",
    "\n",
    "The three products produced by Google AI Labs provided me with so many valuable insights. In this post, I'm going to apply those insights into the design and development of my own LLM application.\n",
    "\n",
    "![](hero-img.jpg)\n",
    "\n",
    "### A quick recap: my previous concerns\n",
    "\n",
    "From my conversations with friends and classmates, I identified a few key challenges faced by this ideation tool:\n",
    "\n",
    "1.\tIt’s difficult to pinpoint very clear and specific user scenarios for the tool.\n",
    "2.\tThe tool doesn’t always deliver consistent value, as the quality of the output can fluctuate, leading users to lose interest quickly.\n",
    "3.\tMany users struggle to recognize the unique strengths of LLM—-for example, their ability to generate unconventional associations---and thus lack enough motivations to use the tool.\n",
    "\n",
    "At this stage, AIdeator is an LLM-powered application designed to generate mind maps that support human collaboration in developing innovative product ideas. It builds out the mind map by expanding branches using a set of pre-defined brainstorming methods, each with clear, structured steps.\n",
    "\n",
    "The core structure is promising, but a closer look reveals several unresolved ambiguities. How should I position this product—as a creative booster like TextFX, a practical tool like NotebookLM, or a hybrid of both? Who are the actual users? What specific value are they expecting from the tool? And perhaps most importantly, how should I frame and brand AIdeator so that its purpose and benefits are immediately clear to its target audience?\n",
    "\n",
    "### Reframe the product\n",
    "\n",
    "Based on these queries, I constructed 4 main user scenarios:\n",
    "\n",
    "1. early startup founders use the tool to brainstorm **profitable produce ideas**\n",
    "    1. they have relatively clear ideas about market and target customers (input)\n",
    "    2. they want profitable, innovative, and feasible product ideas\n",
    "    3. initial stage of product development\n",
    "    4. desired output: **a clear and well-organized product description documentation** (better with text & images)\n",
    "\n",
    "2. individual developers use this tool to come up with their **new personal project ideas**\n",
    "    1. they start with a problem statement they want to solve\n",
    "    2. they are looking for human-centered, creative, and implementable project ideas with suggested feature listing\n",
    "    3. initial stage of product development\n",
    "    4. desired output: a clear documentation of product overview, features, (roadmap)\n",
    "\n",
    "3. small to medium size companies use this tool to look for **solutions to solve customers’ pain points**\n",
    "    1. the brainstorming tool only acts as a **reference list** that helps the team expand their thoughts\n",
    "    2. guide the team (without much experience in design) to run innovation tournament and brainstorm innovative solutions\n",
    "    3. in the middle of product development stage (usually already with mature products, so more contextual information as input)\n",
    "    4. desired output: a clear documentation of problem statement and targeted solutions with suggested implementation strategies\n",
    "\n",
    "4. students use this tool to brainstorm their **school/club/personal project** **ideas**\n",
    "    1. they are passionate about tech and are looking for creative and feasible project ideas for school and club assignments\n",
    "    2. desired output: a clear documentation of project proposal with potential features\n",
    "\n",
    "After going through the list, I felt that something was slightly off. Then I suddenly noticed a pattern: **not a single real, tangible pain point was addressed in the text**. In other words, these are all things people can already do—-with or without the product. At this stage, the tool feels more like an art piece than a solution that delivers concrete business value.\n",
    "\n",
    "Do I want to build a purely creative tool? Probably not. That realization led me to shift my focus toward integrating more utility and practicality into the product, ensuring it not only sparks creativity but also solves real problems and delivers meaningful value to its users.\n",
    "\n",
    "Visualizing the product idea? Targeting a proven market demographic? Verifying product–market fit and business value? Or even just helping users generate a list of inspiring product ideas based on past successes? I had a lot of raw ideas swirling in my mind. At this point, I decided to turn to GPT o1 for some fresh suggestions. (Interestingly, I suddenly realized that I’ve become a potential user of my own product!)\n",
    "\n",
    "Below, o1 suggested a couple potential directions that I might consider taking. Here's a sample excerpt.\n",
    "\n",
    "![](o1-answer.png)\n",
    "\n",
    "After evaluating the effectiveness and feasibility of these insights, I decided to move forward with a few additional features to strengthen the product’s value:\n",
    "\n",
    "* **Market feasibility checks**: As the user brainstorms a product idea, the tool pulls in relevant data (market growth rates, competitor analysis, consumer preferences) so they can see real signals on feasibility.\n",
    "* **Budgeting and feaibility guidance**: The tool will offer rough estimates of financial and technical requirements, linking the idea to real-world constraints and opportunities to help users assess what’s realistically achievable.\n",
    "* **Step-by-Step Implementation Plans**: After an idea is chosen, the tool generates a suggested timeline, key tasks, resource needs, and potential budget ranges."
   ]
  },
  {
   "cell_type": "markdown",
   "id": "f1261b82-87b8-4dab-ae19-ecffa067e044",
   "metadata": {},
   "source": [
    "### Embrace human-centered design\n",
    "\n",
    "After dealing with the overall direction, I started diving into the granular details of design. Google's AI products use a lot of human-centered design principles and always place humans at the forefront. Here I want to also integrate these principles in my product to make it intuitive and user-friendly.\n",
    "\n",
    "#### 1. Guided freedom in brainstorming\n",
    "Brainstorming is an activity that values autonomy and a sense of control. Users don’t want to feel driven or dominated by AI—they want to be the idea owner, the one who ultimately arrives at the most brilliant solution. With that in mind, the interface should make it easy and intuitive for users to provide feedback, with high visual hierarchy to reinforce that they can always intervene and steer the direction of the brainstorming process.\n",
    "\n",
    "We can take it a step further by using color or transparency coding to distinguish between AI-generated and human-generated ideas—where ideas only become finalized or “solid” after receiving human confirmation. This reinforces the idea that AI is a co-creator, not the decision-maker.\n",
    "\n",
    "#### 2. Creative touch and unexpectedness\n",
    "Adding creative touches and elements of surprise is also essential, as the tool is inherently a creative product. On a surface level, color is a powerful visual cue for creativity—using color coding for consolidated product ideas or adding vibrant highlights to key user interactions can make the UI feel more playful and dynamic.\n",
    "\n",
    "Another way to enhance this experience is by allowing users to **adjust the “creativity level” or “wildness”** of the ideas being generated. As we know, different user groups will have different tolerances for novelty versus feasibility. Giving users control over this setting could make the tool feel more adaptable and engaging—almost like a real invention machine that powers and responds to human creativity.\n",
    "\n",
    "The amount of information revealed at once also plays a key role in shaping the user’s sense of unexpectedness. Instead of delivering too much too quickly, the tool should generate content gradually, focusing on keywords or short phrases rather than full paragraphs. This keeps the experience dynamic and encourages curiosity as ideas unfold step by step.\n",
    "\n",
    "Finally, introducing elements of **randomness** can spark creative breakthroughs. Randomness often leads to unexpected connections. A “shuffle” feature that mixes or swaps concepts, or a “mysterious expansion” branch that adds an entirely out-of-the-box tangent to the current idea, can inject surprise and keep the ideation process feeling fresh and imaginative."
   ]
  },
  {
   "cell_type": "code",
   "execution_count": null,
   "id": "c0e277ab-4217-4f0a-a717-2a4505b6c987",
   "metadata": {},
   "outputs": [],
   "source": []
  }
 ],
 "metadata": {
  "citation-manager": {
   "items": {}
  },
  "kernelspec": {
   "display_name": "Python 3-12 (COMM4190)",
   "language": "python",
   "name": "python3-12_comm4190"
  },
  "language_info": {
   "codemirror_mode": {
    "name": "ipython",
    "version": 3
   },
   "file_extension": ".py",
   "mimetype": "text/x-python",
   "name": "python",
   "nbconvert_exporter": "python",
   "pygments_lexer": "ipython3",
   "version": "3.12.8"
  }
 },
 "nbformat": 4,
 "nbformat_minor": 5
}
