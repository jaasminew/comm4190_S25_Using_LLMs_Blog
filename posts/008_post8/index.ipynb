{
 "cells": [
  {
   "cell_type": "raw",
   "id": "103c11fc-dd14-4eb8-b234-2b5a860f05b9",
   "metadata": {},
   "source": [
    "---\n",
    "title: \"Enable LLMs to do emotional thinking\"\n",
    "description: \"Inspired by my experiments with LLMs, I set out to build an ideation partner using Open AI API, that helps humans yield better ideation results than a basic idea generator.\"\n",
    "author: \"Jasmine Wang\"\n",
    "date: \"3/3/2025\"\n",
    "categories:\n",
    "  - LLMs\n",
    "  - product development\n",
    "  - creativity\n",
    "  - ideation\n",
    "---"
   ]
  },
  {
   "cell_type": "markdown",
   "id": "aeeb6b33-ef10-4073-ac5f-185dbfb96a39",
   "metadata": {},
   "source": [
    "\n",
    "Continuing from my last post, I optimized the prompting strategies to allow LLMs dig into more nuanced connections to build a mindmap. This time, I decided to shift my focus--enabling LLMs to engage in emotional thinking. \n",
    "\n",
    "What makes high-quality human-generated ideas stand out is our ability to understand psychological motivations that drive product adoption. While LLMs can generate creative concepts, they often fail to resonate emotionally in the way that strong human-generated ideas do.\n",
    "\n",
    "To address this, I'm planning to incorporate a dedicated branch in the ideation process that prompts AI to explore emotional factors, ensuring that generated ideas are not only innovative but also deeply connected to human needs and desires.\n",
    "\n",
    "![](hero-img.jpg)"
   ]
  },
  {
   "cell_type": "markdown",
   "id": "726de262-ca85-4973-ae78-32e149111a2e",
   "metadata": {},
   "source": [
    "## Deep dive into the emotional aspect of human-generated ideas\n",
    "\n",
    "When exploring the product ideas that won the Kokuyo Design Award, I was deeply moved by the level of **humanistic consideration** embedded in each design. Regardless of the emotion they represent(or seek to address), whether love, sadness, anxiety, or curiosity, these ideas always stem from an **emotional core**, with the product concept perfectly capturing that feeling.\n",
    "\n",
    "Here’s a great example that illustrates this:\n",
    "This product is a watch designed for couples living in different time zones. Inspired by the frustration of coordinating across time differences, the watch elegantly solves this problem by visualizing two time zones within a single dial.\n",
    "\n",
    "While multi-time-zone watches are not uncommon, this design stands out due to its **ingenuity and emotional depth**. The designer’s thoughtful approach goes beyond functionality—it acknowledges the nuanced emotions of distance and connection, making the product feel deeply personal and meaningful.\n",
    "\n",
    "![](humanistic-idea.png)\n",
    "\n",
    "\n",
    "To create a \"recipe\" for generating ideas with humanistic touch and emotional depth, I started by analyzing several key aspects of it:\n",
    "\n",
    "* The idea originates from **an emotional core**: During brainstorming, we often generate numerous problem statements, but most remain surface-level, focusing on practical solutions rather than digging deeper into why the problem exists in the first place. However, a high-quality human-generated idea goes beyond simply accumulating advanced technology—it establishes a connection with the underlying emotional factors of the problem statement. This depth of understanding transforms a concept from merely functional to truly meaningful.\n",
    "\n",
    "* More than just designing a usable product, it creates a product that **seamlessly aligns with human habits and intuitions**. Humans rely on mental shortcuts, heuristics, and unconscious behaviors that shape how we interact with objects and technology. A well-designed product anticipates these natural tendencies, reducing cognitive load and making interactions feel effortless.\n",
    "\n",
    "* (Sometimes) It incorporates a moment of delight by introducing subtle abnormalities into conventional details. When things follow predictable patterns, they can become mundane, fading into the background. A well-designed product, however, **breaks this expectation of normalcy**, sparking surprise and joy in the process. No matter how ordinary an object can be, a great product idea has the ability to add a playful touch to make it into a \"mini-game\"."
   ]
  },
  {
   "cell_type": "markdown",
   "id": "28842aa0-19cb-4451-8d9c-5415c7042aec",
   "metadata": {},
   "source": [
    "## Prompting AI to achieve the result\n",
    "\n",
    "Having these insights in mind, I started working on prompt engineering. I first came up with prompting approaches one by one, and tried to combine them to form a comprehensive prompt that guides the LLM through various phases, including generating painpoints, refining them emotionally, and ensuring they address specific emotional needs or user pains.\n",
    "\n",
    "Like what I did in the last post, I came up with some prompting strategies one by one, and integrated them strategically to form a comprehensive prompt:\n",
    "\n",
    "* Prompting the LLM to identify core emotions behind the problem\n",
    "  \n",
    "> Identify the core emotion(s) behind the problem: \n",
    ">  - What feelings (e.g., anxiety, longing, excitement) do people experience?\n",
    ">  - Why do these emotions arise?\n",
    "\n",
    "* Using \"Five whys\"\n",
    "  \n",
    "> 1. State the problem. Then, repeatedly ask “Why?”:\n",
    ">   - 1st “Why?” peels back the immediate cause.\n",
    ">   - 2nd “Why?” clarifies the underlying situation.\n",
    ">   - 3rd “Why?” moves closer to emotional drivers.\n",
    ">   - …continue until you uncover a more profound emotional truth or universal human desire.\n",
    ">\n",
    "> 2. Summarize the deep emotional insight uncovered.\n",
    "\n",
    "* Focusing on the holistic user experience, including what users see, feel, think, and do\n",
    "\n",
    "> 1. Define the user persona: their environment, goals, and any known pain points.\n",
    ">\n",
    "> 2. Empathy map questions:\n",
    ">   - THINK & FEEL: What are they worried about, excited about, or fearful of?\n",
    ">   - SEE: What does their environment look like? What cues affect them emotionally?\n",
    ">   - HEAR: What do friends, family, or media tell them?\n",
    ">   - SAY & DO: How do they outwardly express their feelings, and what actions do they take?\n",
    ">   - PAINS: What frustrations or difficulties are they facing?\n",
    ">   - GAINS: What would relief, success, or emotional satisfaction look like?\n",
    "\n",
    "* Encouraging LLMs to incorporate little twist of surprise, quirk, or abnormality that sparks joy and makes design feel extra special\n",
    "\n",
    "> 1. Identify the standard design approach or “norm” for a product type.\n",
    "> 2. Pinpoint a subtle, playful twist that could surprise and delight the user.\n",
    ">   - It could be an unexpected animation, a tactile feature, or a playful way of providing feedback.\n",
    "> 3. Evaluate how that moment of delight aligns with the emotional core previously identified.\n",
    "\n",
    "* Focusing the brainstorming on mental models, heuristics, and typical behaviors that make solutions feel natural\n",
    "\n",
    "> 1. List key human habits and heuristics relevant to the domain.\n",
    ">   - e.g., people prefer consistency; they find comfort in routines; they like quick visual feedback.\n",
    ">\n",
    "> 2. Brainstorm how the solution can integrate with or leverage these habits.\n",
    ">   - e.g., a new feature that builds off an existing daily routine so users don’t have to consciously learn something new.\n",
    ">\n",
    "> 3. Highlight where emotional resonance meets usability.\n",
    ">   - e.g., how does this habit-based design reduce frustration or add an element of comfort?\n",
    "\n",
    "* Identifying negative emotionalities and turning them into positive feelings\n",
    "\n",
    "> Identify 2–3 commonly negative or taboo perceptions or frustrations that might arise in this context. Then offer short suggestions for how they could be flipped into something playful, intriguing, or surprisingly positive. (e.g., turning ‘anxiety about deadlines’ into ‘fun countdown rituals’). Focus on concise, open-ended prompts that invite a human designer to explore\n"
   ]
  },
  {
   "cell_type": "markdown",
   "id": "c2f62dd8-eafc-40be-bb93-9c081b821eb4",
   "metadata": {},
   "source": [
    "### Master prompt\n",
    "\n",
    "1.\tContext & Objectives\n",
    "\t“You are a design consultant specializing in emotionally resonant product innovation. Our aim is to explore new [product/service/feature] directions addressing [briefly describe the problem context]. We want to spark concepts that speak to emotional needs, feel intuitive, and introduce a delightful twist—especially by flipping negative associations into something intriguing or playful. Avoid fully detailed solutions; instead, give short, creative pointers.”\n",
    "\t\n",
    "2.\tEmotional Seeds\n",
    "\t“Identify 3–5 core emotional root causes that lead to the problem. What feelings (e.g., anxiety, longing, excitement) do people experience? Why do these emotions arise? Present them as bullet points with brief explanations (e.g., ‘fear of letting others down,’ ‘need for recognition’). ”\n",
    "\n",
    "3.\tHabit & Heuristic Alignment\n",
    "\t“ List key human habits and heuristics relevant to the domain. (e.g., people prefer consistency; they find comfort in routines; they like quick visual feedback.) Then brainstorm directions of how the solution can integrate with or leverage these habits. (e.g., a new feature that builds off an existing daily routine so users don’t have to consciously learn something new.)”\n",
    "\n",
    "4.\tDelightful Subversion\n",
    "\t“Identify 2–3 commonly negative or taboo perceptions or frustrations that might arise in this context. Then offer short suggestions for how they could be flipped into something playful, intriguing, or surprisingly positive. (e.g., turning ‘anxiety about deadlines’ into ‘fun countdown rituals’). Focus on concise, open-ended prompts that invite a human designer to explore.”\n",
    "\n",
    "5.\tGenerate Directions (Not Full Solutions)\n",
    "\t“Propose 3–5 conceptual ‘directions’ (just short phrases or quick bullet points) that combine elements from the emotional seeds, empathy map, habits, and delightful subversion. Keep these directions open-ended—enough to spark ideas, but without detailing exactly how to implement them.”\n",
    "\n",
    "6.\tRefine & Inspire\n",
    "\t“Conclude by highlighting which direction(s) might carry the strongest emotional resonance or the most intriguing ‘delightful subversion.’ Offer a few inspiring questions or next-step prompts (not instructions) for the human to reflect on or build upon. Avoid prescribing a final design—just offer creative nudges.”"
   ]
  },
  {
   "cell_type": "markdown",
   "id": "e947fd6f-4e8a-4bed-9429-ff6280c05287",
   "metadata": {},
   "source": [
    "## Results comparison\n",
    "\n",
    "With standard prompting strategies, the product ideas tend to be more generic and abstract. Additionally, they are often fully fleshed out, leaving little room for human collaboration and iterative refinement.\n",
    "\n",
    "![](standard-prompting-result.png)\n",
    "\n",
    "However, with the modified master prompt, the ideation process unfolds **step by step**, generating more nuanced solutions that create opportunities for human input and creative expansion.\n",
    "\n",
    "![](emotional-prompting-result.png)"
   ]
  },
  {
   "cell_type": "markdown",
   "id": "440f4390-0cbe-4595-9705-3bb2737daf7e",
   "metadata": {},
   "source": [
    "In the next post, I'll be discussing prompting strategies that enable LLMs to comprehensively understand the affordances and constraints of products."
   ]
  },
  {
   "cell_type": "code",
   "execution_count": null,
   "id": "2577ddad-a86e-4190-b155-d1f6c3027207",
   "metadata": {},
   "outputs": [],
   "source": []
  }
 ],
 "metadata": {
  "kernelspec": {
   "display_name": "Python 3-12 (COMM4190)",
   "language": "python",
   "name": "python3-12_comm4190"
  },
  "language_info": {
   "codemirror_mode": {
    "name": "ipython",
    "version": 3
   },
   "file_extension": ".py",
   "mimetype": "text/x-python",
   "name": "python",
   "nbconvert_exporter": "python",
   "pygments_lexer": "ipython3",
   "version": "3.12.8"
  }
 },
 "nbformat": 4,
 "nbformat_minor": 5
}
