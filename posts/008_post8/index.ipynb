{
 "cells": [
  {
   "cell_type": "raw",
   "id": "103c11fc-dd14-4eb8-b234-2b5a860f05b9",
   "metadata": {},
   "source": [
    "---\n",
    "title: \"Enable LLMs to do emotional thinking\"\n",
    "description: \"Inspired by my experiments with LLMs, I set out to build an ideation partner using Open AI API, that helps humans yield better ideation results than a basic idea generator.\"\n",
    "author: \"Jasmine Wang\"\n",
    "date: \"3/3/2025\"\n",
    "categories:\n",
    "  - LLMs\n",
    "  - product development\n",
    "  - creativity\n",
    "  - ideation\n",
    "---"
   ]
  },
  {
   "cell_type": "markdown",
   "id": "aeeb6b33-ef10-4073-ac5f-185dbfb96a39",
   "metadata": {},
   "source": [
    "\n",
    "Continuing from my last post, I optimized the prompting strategies to allow LLMs dig into more nuanced connections to build a mindmap. This time, I decided to shift my focus--enabling LLMs to engage in emotional thinking. \n",
    "\n",
    "What makes high-quality human-generated ideas stand out is our ability to understand psychological motivations that drive product adoption. While LLMs can generate creative concepts, they often fail to resonate emotionally in the way that strong human-generated ideas do.\n",
    "\n",
    "To address this, I'm planning to incorporate a dedicated branch in the ideation process that prompts AI to explore emotional factors, ensuring that generated ideas are not only innovative but also deeply connected to human needs and desires.\n",
    "\n",
    "![](hero-img.jpg)"
   ]
  },
  {
   "cell_type": "markdown",
   "id": "726de262-ca85-4973-ae78-32e149111a2e",
   "metadata": {},
   "source": [
    "## Deep dive into the emotional aspect of human-generated ideas\n",
    "\n",
    "When exploring the product ideas that won the Kokuyo Design Award, I was deeply moved by the level of **humanistic consideration** embedded in each design. Regardless of the emotion they represent(or seek to address), whether love, sadness, anxiety, or curiosity, these ideas always stem from an **emotional core**, with the product concept perfectly capturing that feeling.\n",
    "\n",
    "Here’s a great example that illustrates this:\n",
    "This product is a watch designed for couples living in different time zones. Inspired by the frustration of coordinating across time differences, the watch elegantly solves this problem by visualizing two time zones within a single dial.\n",
    "\n",
    "While multi-time-zone watches are not uncommon, this design stands out due to its **ingenuity and emotional depth**. The designer’s thoughtful approach goes beyond functionality—it acknowledges the nuanced emotions of distance and connection, making the product feel deeply personal and meaningful.\n",
    "\n",
    "![](humanistic-idea.png)\n",
    "\n",
    "\n",
    "To create a \"recipe\" for generating ideas with humanistic touch and emotional depth, I started by analyzing several key aspects of it:\n",
    "\n",
    "* The idea originates from **an emotional core**: During brainstorming, we often generate numerous problem statements, but most remain surface-level, focusing on practical solutions rather than digging deeper into why the problem exists in the first place. However, a high-quality human-generated idea goes beyond simply accumulating advanced technology—it establishes a connection with the underlying emotional factors of the problem statement. This depth of understanding transforms a concept from merely functional to truly meaningful.\n",
    "\n",
    "* More than just designing a usable product, it creates a product that **seamlessly aligns with human habits and intuitions**. Humans rely on mental shortcuts, heuristics, and unconscious behaviors that shape how we interact with objects and technology. A well-designed product anticipates these natural tendencies, reducing cognitive load and making interactions feel effortless.\n",
    "\n",
    "* (Sometimes) It incorporates a moment of delight by introducing subtle abnormalities into conventional details. When things follow predictable patterns, they can become mundane, fading into the background. A well-designed product, however, **breaks this expectation of normalcy**, sparking surprise and joy in the process. No matter how ordinary an object can be, a great product idea has the ability to add a playful touch to make it into a \"mini-game\"."
   ]
  },
  {
   "cell_type": "markdown",
   "id": "28842aa0-19cb-4451-8d9c-5415c7042aec",
   "metadata": {},
   "source": [
    "## Prompting AI to achieve the result\n",
    "\n",
    "Having these insights in mind, I started working on prompt engineering. I first came up with prompting approaches one by one, and tried to combine them to form a comprehensive prompt that guides the LLM through various phases, including generating painpoints, refining them emotionally, and ensuring they address specific emotional needs or user pains."
   ]
  },
  {
   "cell_type": "code",
   "execution_count": null,
   "id": "0ad6ad32-07b2-4f4f-97f4-47c7c73eed43",
   "metadata": {},
   "outputs": [],
   "source": []
  }
 ],
 "metadata": {
  "kernelspec": {
   "display_name": "Python 3-12 (COMM4190)",
   "language": "python",
   "name": "python3-12_comm4190"
  },
  "language_info": {
   "codemirror_mode": {
    "name": "ipython",
    "version": 3
   },
   "file_extension": ".py",
   "mimetype": "text/x-python",
   "name": "python",
   "nbconvert_exporter": "python",
   "pygments_lexer": "ipython3",
   "version": "3.12.8"
  }
 },
 "nbformat": 4,
 "nbformat_minor": 5
}
