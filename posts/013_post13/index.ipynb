{
 "cells": [
  {
   "cell_type": "raw",
   "id": "77aab881-7f7d-4ba4-8040-50411c0e5cfb",
   "metadata": {},
   "source": [
    "---\n",
    "title: \"Collect feedback on the AI Ideation tool\"\n",
    "description: \"Inspired by my experiments with LLMs, I set out to build an ideation partner using Open AI API, that helps humans yield better ideation results than a basic idea generator.\"\n",
    "author: \"Jasmine Wang\"\n",
    "date: \"3/24/2025\"\n",
    "categories:\n",
    "  - LLMs\n",
    "  - product development\n",
    "  - creativity\n",
    "  - ideation\n",
    "---"
   ]
  },
  {
   "cell_type": "markdown",
   "id": "cfca0ff6-c93a-43a8-b409-145e47ce92f5",
   "metadata": {},
   "source": [
    "# How is a product idea generated?\n",
    "\n",
    "At this point, I’ve successfully used prompt engineering to guide the LLM in generating valuable insights and ideas that support brainstorming. However, I found these ideas to be fragmented and overwhelming. This raised two key questions for me: **How much can AI-generated insights truly spark human creativity? And what type of information, delivered in what format, would be most helpful for ideation?** These are the main questions I’ll explore in this post.\n",
    "\n",
    "![](hero-img.jpg)\n",
    "\n",
    "To dig deeper, I reached out to people with experience in the creative field to hear their thoughts and perspectives on the ideation process.\n",
    "\n",
    "Before the conversation, I prepared a short list of questions to guide the discussion. Gaining these insights would help me build a solid foundation for the core ideology behind the AI ideation product and clarify how it can truly support and enhance human creativity.\n",
    "\n",
    "* What does your brainstorming process usually look like? Can you recall how some of your best or most satisfying product ideas were generated?\n",
    "* AI can be really good at constructing connections and generating fresh perspectives. What kind of support would you find most valuable during your creative process?\n",
    "* (After engaging in a 10min individual brainstorming exercise) Please take a look at these AI-generated ideation support, would you find them helpful? What improvements can be made here?"
   ]
  },
  {
   "cell_type": "code",
   "execution_count": null,
   "id": "09ddae07-e1b6-455d-b2a6-567afb223a81",
   "metadata": {},
   "outputs": [],
   "source": []
  }
 ],
 "metadata": {
  "kernelspec": {
   "display_name": "Python 3-12 (COMM4190)",
   "language": "python",
   "name": "python3-12_comm4190"
  },
  "language_info": {
   "codemirror_mode": {
    "name": "ipython",
    "version": 3
   },
   "file_extension": ".py",
   "mimetype": "text/x-python",
   "name": "python",
   "nbconvert_exporter": "python",
   "pygments_lexer": "ipython3",
   "version": "3.12.8"
  }
 },
 "nbformat": 4,
 "nbformat_minor": 5
}
