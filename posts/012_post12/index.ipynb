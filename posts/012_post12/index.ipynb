{
 "cells": [
  {
   "cell_type": "raw",
   "id": "417d4ff3-e8ab-445a-9b62-4f33a4ef8902",
   "metadata": {},
   "source": [
    "---\n",
    "title: \"Prompt engineering for LLM ideation Part 2\"\n",
    "description: \"Inspired by my experiments with LLMs, I set out to build an ideation partner using Open AI API, that helps humans yield better ideation results than a basic idea generator.\"\n",
    "author: \"Jasmine Wang\"\n",
    "date: \"3/22/2025\"\n",
    "categories:\n",
    "  - LLMs\n",
    "  - product development\n",
    "  - creativity\n",
    "  - ideation\n",
    "---"
   ]
  },
  {
   "cell_type": "markdown",
   "id": "7c497292-885e-4bd2-afa6-549197c54fd4",
   "metadata": {},
   "source": [
    "# Construct the ideation prompting\n",
    "\n",
    "Continuing from the last post, I'm going to complete and polish the prompt for the co-brainstorming session. In the previous post, I outlined the overall workflow of the ideation process and constructed a LangChain workflow diagram listing all the steps and different types of chain that are used. In this post, I'll be working on refining the prompt.\n",
    "\n",
    "![](hero-img.jpg)\n",
    "\n",
    "## Workflow (Part 2)\n",
    "The main goal here is to instruct the LLM to co-create product ideas by helping complete a mind map. As I explained earlier, a mind map is built around a network of interrelated concepts that connect and branch out from one another. After analyzing several innovation templates, I distilled the process into three key methods: 1. Identifying emotional root causes 2. Discovering deeper, non-obvious connections 3. Generating imaginary customer feedback.\n",
    "\n",
    "Completing the mind map requires input from both the LLM and the human user. This challenge breaks down into two main tasks: One, instructing the LLM to generate concepts and keywords; two, enabling the LLM to respond to human input and expand on those branches. The first task is more complex but can be handled effectively with well-crafted instructions. The second task might seem simple—essentially just continuing a conversation—but it raises important considerations like how the LLM interprets user input and how to generate thoughtful, contextually relevant responses. These subtle challenges require more attention than they appear at first glance.\n",
    "\n",
    "For now, I’ve decided to focus on the first task—-building a solid foundation by guiding the LLM to generate meaningful concepts and keywords.\n",
    "\n",
    "Building on my findings from previous posts—where I refined the prompt to help LLMs form more nuanced connections, think emotionally, and generate imaginary user personas—I’ve summarized each method into a clear set of steps.\n",
    "\n",
    "## Give it a try\n",
    "\n"
   ]
  },
  {
   "cell_type": "code",
   "execution_count": null,
   "id": "4a940c48-4811-418b-a5f1-b0da57b81c0c",
   "metadata": {},
   "outputs": [],
   "source": []
  }
 ],
 "metadata": {
  "kernelspec": {
   "display_name": "Python 3-12 (COMM4190)",
   "language": "python",
   "name": "python3-12_comm4190"
  },
  "language_info": {
   "codemirror_mode": {
    "name": "ipython",
    "version": 3
   },
   "file_extension": ".py",
   "mimetype": "text/x-python",
   "name": "python",
   "nbconvert_exporter": "python",
   "pygments_lexer": "ipython3",
   "version": "3.12.8"
  }
 },
 "nbformat": 4,
 "nbformat_minor": 5
}
