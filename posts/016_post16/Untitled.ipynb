{
 "cells": [
  {
   "cell_type": "raw",
   "id": "090a777e-3067-4f5e-a2f7-8835ee53964e",
   "metadata": {},
   "source": [
    "---\n",
    "title: \"Explore OpenAI 4o image generation model\"\n",
    "description: \"Explore the affordances and constraints of OpenAI 4o image generation tool, and investigate the feasibility of using it in my Ideation tool.\"\n",
    "author: \"Jasmine Wang\"\n",
    "date: \"3/28/2025\"\n",
    "categories:\n",
    "  - LLMs\n",
    "  - product development\n",
    "  - creativity\n",
    "  - ideation\n",
    "---"
   ]
  },
  {
   "cell_type": "code",
   "execution_count": null,
   "id": "1d91627f-9817-4cc8-bf72-25726579759f",
   "metadata": {},
   "outputs": [],
   "source": []
  }
 ],
 "metadata": {
  "citation-manager": {
   "items": {}
  },
  "kernelspec": {
   "display_name": "Python 3-12 (COMM4190)",
   "language": "python",
   "name": "python3-12_comm4190"
  },
  "language_info": {
   "codemirror_mode": {
    "name": "ipython",
    "version": 3
   },
   "file_extension": ".py",
   "mimetype": "text/x-python",
   "name": "python",
   "nbconvert_exporter": "python",
   "pygments_lexer": "ipython3",
   "version": "3.12.8"
  }
 },
 "nbformat": 4,
 "nbformat_minor": 5
}
