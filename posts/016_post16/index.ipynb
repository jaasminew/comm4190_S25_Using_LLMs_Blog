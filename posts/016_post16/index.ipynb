{
 "cells": [
  {
   "cell_type": "raw",
   "id": "090a777e-3067-4f5e-a2f7-8835ee53964e",
   "metadata": {},
   "source": [
    "---\n",
    "title: \"Explore OpenAI 4o image generation model\"\n",
    "description: \"Explore the affordances and constraints of OpenAI 4o image generation tool, and investigate the feasibility of using it in my Ideation tool.\"\n",
    "author: \"Jasmine Wang\"\n",
    "date: \"4/2/2025\"\n",
    "categories:\n",
    "  - LLMs\n",
    "  - product development\n",
    "  - creativity\n",
    "  - ideation\n",
    "---"
   ]
  },
  {
   "cell_type": "markdown",
   "id": "4c9e91e7-392a-49ec-9384-42e92c8d2c15",
   "metadata": {},
   "source": [
    "## Testing the affordances and constraints of 4o Image Gen\n",
    "\n",
    "Picking up from where I left off in the last post, I started exploring the idea of integrating multi-modal output into the LLM ideation partner. In this post, I’ll be testing the capabilities of that feature to see whether it can meaningfully enhance text-based ideation by opening up new visual pathways for creativity.\n",
    "\n",
    "Right now, this feature is going viral online, largely because of its ability to generate images in the Studio Ghibli style. But generating visuals for innovative product ideas goes far beyond applying stylistic filters. It requires the language model to accurately interpret and visualize the details of potentially unconventional tools or concepts—many of which may not even exist in its training data.\n",
    "\n",
    "That’s why I’ve decided to test it today—to better understand whether incorporating multi-modal output into my LLM application is a strategic and valuable move for supporting creative ideation.\n",
    "\n",
    "![](hero-img.jpg)\n",
    "\n",
    "### Generating product prototype images\n",
    "\n",
    "Conclusion goes first: The GPT-4o model is surprisingly effective at generating highly detailed product images with accurate text. The key to this capability lies in crafting an extremely detailed image generation prompt—something that can also be efficiently produced within GPT-4o itself.\n",
    "\n",
    "The trick lies in crafting a high-quality prompt beforehand. As long as all the necessary details are clearly specified, GPT-4o does an impressive job visualizing them accurately. That’s why ensuring the clarity and completeness of the prompt is the most essential part of the process.\n",
    "\n",
    "To gain a more comprehensive understanding of this feature, I created a rubric for systematically testing the capabilities of GPT-4o’s image generation in the context of product visualization. For each attribute, I ran multiple tests, asking the LLM to generate high-quality images. I then scored each attribute and included notes with tips and observations for effectively using the tool.\n",
    "\n",
    "Here's a snapshot of my rubric.\n",
    "\n",
    "![](rubric.png)\n",
    "\n",
    "Here are a few practice trial runs worth highlighting. My typical workflow looks like this:\n",
    "First, I ask GPT to generate a product idea (which will eventually be the result of human-AI collaboration in my product). Then, I prompt it to translate the idea into a detailed image generation prompt, making edits if needed. Finally, I ask GPT to generate the product image based on that prompt.\n",
    "\n",
    "I found this feature particularly effective for generating physical product visuals. Since most of us aren’t professional industrial designers—-and physical products tend to involve more visual variety than digital ones—-having GPT generate reference images is incredibly helpful for bringing ideas to life. Based on my trial runs, the results are visually impressive, as long as the prompt is well-crafted and pointed in the right direction.\n",
    "\n",
    "Here are a few examples of prompts and the corresponding images:\n",
    "\n",
    "> Design a cozy, emotionally expressive product called HeartLink Plush—a soft, huggable plush toy for international college students that simulates a loved one’s heartbeat. The plush is medium-sized, made with calming, textured fabric (like velvety or knitted material), in gentle tones such as pastel pink, soft gray, or lavender. It has a subtle heart-shaped glow area on its chest, gently pulsing with warm light to mimic a heartbeat. Next to the plush is a phone with a companion app on screen, showing a “connected” status with another plush across the globe. The setting is a dorm room at night, softly lit, with blankets, books, and maybe a cup of tea, evoking feelings of warmth, connection, and comfort during homesickness or study stress.\n",
    "\n",
    "![](product-img-1.png)\n",
    "\n",
    "> Design a sleek and modern wearable wristband called PulseBand, intended to help college students maintain focus while studying. The band is minimalist, made of soft silicone or woven fabric, in calming colors like matte black, sand beige, or slate blue. The wristband features a small, subtle LED indicator that glows gently during active focus sessions, and a tiny tactile pattern on the inside for discreet haptic feedback. Place the wristband on a student’s wrist as they study at a clean desk with a laptop, notebook, and a coffee nearby. A phone beside them shows the connected PulseBand app with “Deep Work Mode: 23 min remaining” on screen. The overall setting is calm and tech-savvy, emphasizing productivity and personal focus without distractions.\n",
    "\n",
    "![](product-img-2.png)\n",
    "\n",
    "What I also found fascinating was the accuracy in detail changes and the effectiveness of style transformations. After my spring break trip to Vienna, I asked GPT to generate a product idea for a Vienna-themed souvenir. Here’s the prompt it came up with:\n",
    "\n",
    "> Design a charming, photo-realistic souvenir product called “Sound of Vienna – Mini Pop-Up Stage.” The product is a flat, postcard-sized item that unfolds into a detailed, 3D paper pop-up scene. When opened, the stage reveals illustrated paper cutouts of a classical orchestra mid-performance—string musicians, a conductor, and a grand piano—set inside an ornate Viennese concert hall inspired by the Vienna State Opera.\n",
    ">\n",
    "> The backdrop features intricate details: golden balconies, velvet red curtains, Baroque arches, and chandeliers. At the base of the stage is a small button that plays a 10-second snippet of classical music (e.g., Strauss’s Blue Danube), with a small speaker subtly embedded into the cardboard.\n",
    ">\n",
    "> The overall aesthetic is elegant yet whimsical. The color palette includes warm golds, soft creams, deep reds, and touches of hand-drawn texture. Show the item halfway opened on a wooden table, with another folded version beside it in a flat protective sleeve that reads “Sound of Vienna – Strauss Edition.” Nearby, place a hand or travel bag to suggest how easily it fits into luggage.\n",
    ">\n",
    "> Emphasize portability, craftsmanship, and the magical storytelling of Vienna’s musical legacy in a physical keepsake.\n",
    "\n",
    "Intially this is what GPT gave me:\n",
    "![](product-img-3.png)\n",
    "\n",
    "I was not very satisfied with the style, wanting the postcard to be more three-dimensional. So I used another image as a reference: \n",
    "\n",
    "![](product-img-4.png)\n",
    "\n",
    "This time, GPT did an extremely well job in replicating the style of the postcard without changing too much of the original design.\n",
    "\n",
    "![](product-img-5.png)\n",
    "\n",
    "To continue experimenting with the style transformation feature, I asked GPT to render the postcard design in the style of a Monet painting—and here’s what it produced:\n",
    "\n",
    "![](product-img-6.png)\n",
    "\n",
    "I can further prompt it to make it more 3D, but I believe these examples should be sufficient to demonstrate the powerful capability of 4o Image Gen."
   ]
  },
  {
   "cell_type": "code",
   "execution_count": null,
   "id": "2611f81e-f55e-40a5-9cbe-3d8faba7cad9",
   "metadata": {},
   "outputs": [],
   "source": []
  }
 ],
 "metadata": {
  "citation-manager": {
   "items": {}
  },
  "kernelspec": {
   "display_name": "Python 3-12 (COMM4190)",
   "language": "python",
   "name": "python3-12_comm4190"
  },
  "language_info": {
   "codemirror_mode": {
    "name": "ipython",
    "version": 3
   },
   "file_extension": ".py",
   "mimetype": "text/x-python",
   "name": "python",
   "nbconvert_exporter": "python",
   "pygments_lexer": "ipython3",
   "version": "3.12.8"
  }
 },
 "nbformat": 4,
 "nbformat_minor": 5
}
