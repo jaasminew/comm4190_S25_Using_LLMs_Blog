{
 "cells": [
  {
   "cell_type": "raw",
   "id": "090a777e-3067-4f5e-a2f7-8835ee53964e",
   "metadata": {},
   "source": [
    "---\n",
    "title: \"Explore OpenAI 4o image generation model\"\n",
    "description: \"Explore the affordances and constraints of OpenAI 4o image generation tool, and investigate the feasibility of using it in my Ideation tool.\"\n",
    "author: \"Jasmine Wang\"\n",
    "date: \"4/2/2025\"\n",
    "categories:\n",
    "  - LLMs\n",
    "  - product development\n",
    "  - creativity\n",
    "  - ideation\n",
    "---"
   ]
  },
  {
   "cell_type": "markdown",
   "id": "4c9e91e7-392a-49ec-9384-42e92c8d2c15",
   "metadata": {},
   "source": [
    "## Testing the affordances and constraints of 4o Image Gen\n",
    "\n",
    "Picking up from where I left off in the last post, I started exploring the idea of integrating multi-modal output into the LLM ideation partner. In this post, I’ll be testing the capabilities of that feature to see whether it can meaningfully enhance text-based ideation by opening up new visual pathways for creativity.\n",
    "\n",
    "Right now, this feature is going viral online, largely because of its ability to generate images in the Studio Ghibli style. But generating visuals for innovative product ideas goes far beyond applying stylistic filters. It requires the language model to accurately interpret and visualize the details of potentially unconventional tools or concepts—many of which may not even exist in its training data.\n",
    "\n",
    "That’s why I’ve decided to test it today—to better understand whether incorporating multi-modal output into my LLM application is a strategic and valuable move for supporting creative ideation.\n",
    "\n",
    "### Generating product prototype images\n",
    "\n",
    "Conclusion goes first: The GPT-4o model is surprisingly effective at generating highly detailed product images with accurate text. The key to this capability lies in crafting an extremely detailed image generation prompt—something that can also be efficiently produced within GPT-4o itself.\n",
    "\n",
    "The trick lies in crafting a high-quality prompt beforehand. As long as all the necessary details are clearly specified, GPT-4o does an impressive job visualizing them accurately. That’s why ensuring the clarity and completeness of the prompt is the most essential part of the process.\n",
    "\n",
    "To gain a more comprehensive understanding of this feature, I created a rubric for systematically testing the capabilities of GPT-4o’s image generation in the context of product visualization. For each attribute, I ran multiple tests, asking the LLM to generate high-quality images. I then scored each attribute and included notes with tips and observations for effectively using the tool.\n",
    "\n",
    "\n"
   ]
  }
 ],
 "metadata": {
  "citation-manager": {
   "items": {}
  },
  "kernelspec": {
   "display_name": "Python 3-12 (COMM4190)",
   "language": "python",
   "name": "python3-12_comm4190"
  },
  "language_info": {
   "codemirror_mode": {
    "name": "ipython",
    "version": 3
   },
   "file_extension": ".py",
   "mimetype": "text/x-python",
   "name": "python",
   "nbconvert_exporter": "python",
   "pygments_lexer": "ipython3",
   "version": "3.12.8"
  }
 },
 "nbformat": 4,
 "nbformat_minor": 5
}
