{
 "cells": [
  {
   "cell_type": "raw",
   "id": "7254e8db-d642-454b-a43e-85990e952840",
   "metadata": {},
   "source": [
    "---\n",
    "title: \"A Closer Investigation of AI Agentic tool Manus\"\n",
    "description: \"An in-depth overview of AI agentic tool Manus.ai\"\n",
    "author: \"Jasmine Wang\"\n",
    "date: \"4/14/2025\"\n",
    "categories:\n",
    "  - LLMs\n",
    "  - AI agents\n",
    "  - reflections\n",
    "  - Manus\n",
    "---"
   ]
  },
  {
   "cell_type": "markdown",
   "id": "8c7bfe26-a903-46ea-af6d-d108139cea61",
   "metadata": {},
   "source": [
    "# What is AI agent?\n",
    "![](hero-img.jpg)\n",
    "\n",
    "An AI agent is a software system designed to autonomously perceive its environment, make decisions, and take actions to achieve specific goals. Unlike traditional programs that follow fixed rules, AI agents are adaptive, often equipped with learning capabilities and a certain level of decision-making autonomy. They can range from simple rule-based bots to highly complex systems that use machine learning to improve over time. Whether embedded in personal assistants, chatbots, or robotic systems, the core idea remains the same: an AI agent acts on behalf of a user or organization to perform tasks intelligently and with minimal supervision.\n",
    "\n",
    "Theoretically, AI agents operate through a **perception-decision-action loop**. They begin by collecting data from their environment—whether that’s through sensors, APIs, or user inputs. This data is processed and analyzed, often using models such as decision trees, neural networks, or reinforcement learning algorithms. Based on this analysis, the agent selects an appropriate action from a set of possible choices. Over time, many agents incorporate feedback to refine their models, becoming more accurate and responsive to changing contexts. The loop is continuous, which means the agent can respond in real time and adapt to new information. Currently I'm taking a Introduction to Agentic AI online course, and the diagram in the course perfectly describes how AI agent works.\n",
    "\n",
    "![](agentic_ai_workflow.png)\n",
    "\n",
    "In practice, AI agents are becoming powerful allies for individuals and businesses. They can automate scheduling, recommend content, summarize large documents, monitor system performance, or even collaborate creatively in writing, coding, or design. Tools like Manus exemplify how AI agents can enhance user experience by functioning less like passive tools and more like proactive collaborators. By reducing the cognitive load and taking care of repetitive or complex tasks, AI agents can free up time, boost productivity, and make technology feel more intuitive and responsive."
   ]
  },
  {
   "cell_type": "markdown",
   "id": "a01b3145-a23b-42e6-bf1b-165b6ebc8b23",
   "metadata": {},
   "source": [
    "## Working with Manus\n",
    "To gain a better understanding of how an AI agent works, I decided to try out Manus AI. Since I’m currently planning a trip to Rome and Florence, I asked Manus to help refine my travel itinerary based on the weather forecast and the popularity of various points of interest in both cities.\n",
    "\n",
    "Here’s the prompt I gave to Manus:\n",
    "\n",
    "> I’m traveling to Rome and Florence tomorrow, from 5.7–5.12. Based on the weather and popularity of the places of interest, help me refine this itinerary my friend and I worked on yesterday. I want the travel plan to include the places to go, restaurants to eat at, and stores where we can get some souvenirs. I want you to indicate the relative distance between places on a map, as well as embed links to the websites where we can directly book tickets. I want the itinerary to be a Notion file, with a clearly structured schedule.\n",
    "\n",
    "**TL;DR:** Overall, Manus did a solid job pulling everything together and delivered a detailed travel itinerary as requested. What stood out most, however, was how it performed the task. Manus operated with full autonomy, making decisions on its own without requiring additional input from me. It encountered several errors along the way, but impressively, it was able to handle them independently—finding alternative solutions and adjusting its approach to still achieve the intended outcome.\n",
    "\n",
    "![](manus-output.png)"
   ]
  },
  {
   "cell_type": "code",
   "execution_count": null,
   "id": "29be15bd-bc39-4e4a-a8f5-7fab03fbbf2f",
   "metadata": {},
   "outputs": [],
   "source": []
  }
 ],
 "metadata": {
  "citation-manager": {
   "items": {}
  },
  "kernelspec": {
   "display_name": "Python 3-12 (COMM4190)",
   "language": "python",
   "name": "python3-12_comm4190"
  },
  "language_info": {
   "codemirror_mode": {
    "name": "ipython",
    "version": 3
   },
   "file_extension": ".py",
   "mimetype": "text/x-python",
   "name": "python",
   "nbconvert_exporter": "python",
   "pygments_lexer": "ipython3",
   "version": "3.12.8"
  }
 },
 "nbformat": 4,
 "nbformat_minor": 5
}
