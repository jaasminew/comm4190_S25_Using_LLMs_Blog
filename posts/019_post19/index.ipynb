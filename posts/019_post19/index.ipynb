{
 "cells": [
  {
   "cell_type": "raw",
   "id": "7254e8db-d642-454b-a43e-85990e952840",
   "metadata": {},
   "source": [
    "---\n",
    "title: \"A Closer Investigation of Agentic AI tool Manus\"\n",
    "description: \"An in-depth overview of AI agentic tool Manus.ai\"\n",
    "author: \"Jasmine Wang\"\n",
    "date: \"4/14/2025\"\n",
    "categories:\n",
    "  - LLMs\n",
    "  - AI agents\n",
    "  - reflections\n",
    "  - Manus\n",
    "---"
   ]
  },
  {
   "cell_type": "markdown",
   "id": "8c7bfe26-a903-46ea-af6d-d108139cea61",
   "metadata": {},
   "source": [
    "# What is AI agent?\n",
    "![](hero-img.jpg)\n",
    "\n",
    "An AI agent is a software system designed to autonomously perceive its environment, make decisions, and take actions to achieve specific goals. Unlike traditional programs that follow fixed rules, AI agents are adaptive, often equipped with learning capabilities and a certain level of decision-making autonomy. They can range from simple rule-based bots to highly complex systems that use machine learning to improve over time. Whether embedded in personal assistants, chatbots, or robotic systems, the core idea remains the same: an AI agent acts on behalf of a user or organization to perform tasks intelligently and with minimal supervision.\n",
    "\n",
    "Theoretically, AI agents operate through a **perception-decision-action loop**. They begin by collecting data from their environment—whether that’s through sensors, APIs, or user inputs. This data is processed and analyzed, often using models such as decision trees, neural networks, or reinforcement learning algorithms. Based on this analysis, the agent selects an appropriate action from a set of possible choices. Over time, many agents incorporate feedback to refine their models, becoming more accurate and responsive to changing contexts. The loop is continuous, which means the agent can respond in real time and adapt to new information. Currently I'm taking a Introduction to Agentic AI online course, and the diagram in the course perfectly describes how AI agent works.\n",
    "\n",
    "![](agentic_ai_workflow.png)\n",
    "\n",
    "In practice, AI agents are becoming powerful allies for individuals and businesses. They can automate scheduling, recommend content, summarize large documents, monitor system performance, or even collaborate creatively in writing, coding, or design. Tools like Manus exemplify how AI agents can enhance user experience by functioning less like passive tools and more like proactive collaborators. By reducing the cognitive load and taking care of repetitive or complex tasks, AI agents can free up time, boost productivity, and make technology feel more intuitive and responsive."
   ]
  },
  {
   "cell_type": "markdown",
   "id": "a01b3145-a23b-42e6-bf1b-165b6ebc8b23",
   "metadata": {},
   "source": [
    "## Working with Manus\n",
    "To gain a better understanding of how an AI agent works, I decided to try out Manus AI. Since I’m currently planning a trip to Rome and Florence, I asked Manus to help refine my travel itinerary based on the weather forecast and the popularity of various points of interest in both cities.\n",
    "\n",
    "Here’s the prompt I gave to Manus:\n",
    "\n",
    "> I’m traveling to Rome and Florence tomorrow, from 5.7–5.12. Based on the weather and popularity of the places of interest, help me refine this itinerary my friend and I worked on yesterday. I want the travel plan to include the places to go, restaurants to eat at, and stores where we can get some souvenirs. I want you to indicate the relative distance between places on a map, as well as embed links to the websites where we can directly book tickets. I want the itinerary to be a Notion file, with a clearly structured schedule.\n",
    "\n",
    "**TL;DR:** Overall, Manus did a solid job pulling everything together and delivered a detailed travel itinerary as requested. What stood out most, however, was how it performed the task. Manus operated with full autonomy, making decisions on its own without requiring additional input from me. It encountered several errors along the way, but impressively, it was able to handle them independently—finding alternative solutions and adjusting its approach to still achieve the intended outcome.\n",
    "\n",
    "![](manus-output.png)\n",
    "\n",
    "To illustrate my point, here's a screenshot of Manus working.\n",
    "\n",
    "![](manus-working.png)\n",
    "\n",
    "At first glance, it seems like ChatGPT could perform the same task with a similar level of quality as Manus. So that raises an important question: What actually sets an AI agent like Manus apart?\n",
    "\n",
    "To explore this, I gave ChatGPT the exact same prompt and observed how it handled the task for comparison.\n",
    "\n",
    "![](gpt-output.png)\n",
    "\n",
    "Without real-time web search, ChatGPT’s travel itinerary felt more generic. It didn’t include the week’s weather forecast, nor did it reference the popularity of specific attractions.\n",
    "\n",
    "Moreover, Manus went a step further by including direct links to booking sites, making the itinerary far more actionable and convenient. Below is an example of a response provided by Manus. It includes important notes that I didn't even mention in my prompt. \n",
    "\n",
    "![](manus-response.png)\n",
    "\n",
    "I'm pretty sure that LLMs are capable of producing similar results. However, they require more nuanced and carefully crafted prompting to do so. As a user with limited information on the topic, Manus’s response feels more intelligent, not because the underlying model is necessarily stronger, but because it proactively guides me and empowers me to complete my task more effectively and in greater depth."
   ]
  },
  {
   "cell_type": "markdown",
   "id": "4434e780-25f8-4e7e-9e2c-8c3d120842a5",
   "metadata": {},
   "source": [
    "## One more task\n",
    "Last but not least, I gave Manus a task that GPT couldn't perform:\n",
    "\n",
    "> can you help me book a guided tour for Galleria dell’Accademia di Firenze? if you can look for a guided tour around 50 bucks, go for it. i'd like english tour guide, on 5/11 (sunday) morning, any time from 8-11.\n",
    "\n",
    "This requires Manus to not only do web search, but also take actions for me. Below is Manus' response.\n",
    "\n",
    "![](manus-output-2.png)\n",
    "\n",
    "However, due to some technical limitations, Manus wasn’t able to access the website directly and instead provided me with a link. I followed the link to verify the information, but unfortunately, the details didn’t match up—the price it listed didn’t reflect actual availability. There was no tour guide available for 8–11 AM on 5/11 at around $50—the real options were noticeably more expensive.\n",
    "\n",
    "![](website-result.png)\n",
    "\n",
    "## Conclusion\n",
    "Based on my experience using Manus, while it’s capable of executing tasks on behalf of the user, the quality and reliability of those tasks—particularly when they involve taking real-world actions—still feels quite limited. This suggests that, although AI agents like Manus show promise in orchestrating workflows, they are not yet fully dependable for high-stakes or detail-sensitive tasks that require real-time accuracy or transactional precision. In its current state, it feels more like a smart assistant offering suggestions than a true agent executing on my behalf with the level of precision a human would expect."
   ]
  },
  {
   "cell_type": "code",
   "execution_count": null,
   "id": "7a430997-613c-4b6b-a64c-3403fc809269",
   "metadata": {},
   "outputs": [],
   "source": []
  }
 ],
 "metadata": {
  "citation-manager": {
   "items": {}
  },
  "kernelspec": {
   "display_name": "Python 3-12 (COMM4190)",
   "language": "python",
   "name": "python3-12_comm4190"
  },
  "language_info": {
   "codemirror_mode": {
    "name": "ipython",
    "version": 3
   },
   "file_extension": ".py",
   "mimetype": "text/x-python",
   "name": "python",
   "nbconvert_exporter": "python",
   "pygments_lexer": "ipython3",
   "version": "3.12.8"
  }
 },
 "nbformat": 4,
 "nbformat_minor": 5
}
