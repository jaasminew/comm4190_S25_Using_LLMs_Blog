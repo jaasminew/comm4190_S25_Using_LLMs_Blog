{
 "cells": [
  {
   "cell_type": "raw",
   "id": "3dd46102-7d47-4022-b476-f9cbd52e894c",
   "metadata": {},
   "source": [
    "---\n",
    "title: \"Building A Better Ideation Partner 3\"\n",
    "description: \"Inspired by my experiments with LLMs, I set out to build an ideation partner using Open AI API, that helps humans yield better ideation results than a basic idea generator.\"\n",
    "author: \"Jasmine Wang\"\n",
    "date: \"2/10/2025\"\n",
    "categories:\n",
    "  - LLMs\n",
    "  - product development\n",
    "  - creativity\n",
    "  - ideation\n",
    "---"
   ]
  },
  {
   "cell_type": "markdown",
   "id": "4d5d2016-51a8-457c-8fbe-95e1cd42ca34",
   "metadata": {},
   "source": [
    "# Criteria for setting up an ideating environment\n",
    "\n",
    "I have been constantly reading papers and materials regarding engaging AI into creative tasks, including *Co-intelligence* by Ethan Mollick, *The Innovation Tournament Handbook* by Christian Terwiesch, and *Using Large Language Models for Idea Generation in Innovation* by Lennart Meincke, Karan Girotra, Gideon Nave, Christian Terwiesch, and Karl T. Ulrich. These resources have provided valuable insights, prompting me to develop my own guidelines for setting up an effective ideation environment.\n",
    "\n",
    "Currently, when evaluating LLM-generated output, I rely on subjective judgment, selecting ideas that resonate most with me. However, I’ve realized that to help LLMs better understand the innovation process and the criteria for high-quality ideas, **clearly defined and specialized rules and guidelines** are essential.\n",
    "\n",
    "Working with LLMs requires a balance of creativity and logic.\n",
    "\n",
    "![](hero-img.jpg)\n",
    "\n",
    "## What can be considered as a GOOD idea?\n",
    "\n",
    "To teach GPT how to generate high-quality ideas, I first categorized AI-generated ideas into **GOOD** and **BAD** groups. Additionally, I created a third category containing **GOOD human-generated** ideas from renowned designers worldwide.\n",
    "\n",
    "I compiled the list of human-generated ideas by manually selecting product design concepts created by renowned designers, awarded prestigious design accolades, or achieving notable commercial success.\n",
    "\n",
    "For AI-generated ideas, I employed various prompting strategies, including Chain-of-Thought, few-shot prompting, question-inspired prompting, attribute-driven prompting, and design methodology prompting to generate diverse innovative product concepts. Based primarily on subjective judgment, I selected 10 good ideas and 10 bad ideas from a pool of 100 AI-generated ideas.\n",
    "\n",
    "![](idea-list.png)\n",
    "\n",
    "\n",
    "\n",
    "With GPT’s assistance, I compared these groups to identify key differences. From this analysis, I distilled a list of characteristics unique to high-quality ideas and pinpointed common pitfalls that AI-generated ideas tend to fall into.\n",
    "\n",
    "\n",
    "### What makes human-generated idea unique?\n",
    "\n",
    "After comparing ideas from different sources, I found out that those high-quality human-generated ideas still stand out among all ideas.\n",
    "\n",
    "#### 1. Humans make connection: Explore linkages and metaphors\n",
    "\n",
    "#### 2. Humans feel: Appeal to emotions\n",
    "\n",
    "#### 3. Humans imagine: Contextualize languages"
   ]
  },
  {
   "cell_type": "code",
   "execution_count": null,
   "id": "0b6cf624-2d18-4ddd-9f33-78a82e856b5e",
   "metadata": {},
   "outputs": [],
   "source": []
  }
 ],
 "metadata": {
  "kernelspec": {
   "display_name": "Python 3-12 (COMM4190)",
   "language": "python",
   "name": "python3-12_comm4190"
  },
  "language_info": {
   "codemirror_mode": {
    "name": "ipython",
    "version": 3
   },
   "file_extension": ".py",
   "mimetype": "text/x-python",
   "name": "python",
   "nbconvert_exporter": "python",
   "pygments_lexer": "ipython3",
   "version": "3.12.8"
  }
 },
 "nbformat": 4,
 "nbformat_minor": 5
}
