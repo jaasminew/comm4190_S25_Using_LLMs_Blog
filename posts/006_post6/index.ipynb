{
 "cells": [
  {
   "cell_type": "raw",
   "id": "3dd46102-7d47-4022-b476-f9cbd52e894c",
   "metadata": {},
   "source": [
    "---\n",
    "title: \"Building A Better Ideation Partner 3\"\n",
    "description: \"Inspired by my experiments with LLMs, I set out to build an ideation partner using Open AI API, that helps humans yield better ideation results than a basic idea generator.\"\n",
    "author: \"Jasmine Wang\"\n",
    "date: \"2/20/2025\"\n",
    "categories:\n",
    "  - LLMs\n",
    "  - product development\n",
    "  - creativity\n",
    "  - ideation\n",
    "---"
   ]
  },
  {
   "cell_type": "markdown",
   "id": "4d5d2016-51a8-457c-8fbe-95e1cd42ca34",
   "metadata": {},
   "source": [
    "# Criteria for setting up an ideating environment\n",
    "\n",
    "I have been constantly reading papers and materials regarding engaging AI into creative tasks, including *Co-intelligence* by Ethan Mollick, *The Innovation Tournament Handbook* by Christian Terwiesch, and *Using Large Language Models for Idea Generation in Innovation* by Lennart Meincke, Karan Girotra, Gideon Nave, Christian Terwiesch, and Karl T. Ulrich. These resources have provided valuable insights, prompting me to develop my own guidelines for setting up an effective ideation environment.\n",
    "\n",
    "Currently, when evaluating LLM-generated output, I rely on subjective judgment, selecting ideas that resonate most with me. However, I’ve realized that to help LLMs better understand the innovation process and the criteria for high-quality ideas, **clearly defined and specialized rules and guidelines** are essential.\n",
    "\n",
    "Working with LLMs requires a balance of creativity and logic.\n",
    "\n",
    "![](hero-img.jpg)\n",
    "\n",
    "## What can be considered as a GOOD idea?\n",
    "\n",
    "To teach GPT how to generate high-quality ideas, I first categorized AI-generated ideas into **GOOD** and **BAD** groups. Additionally, I created a third category containing **GOOD human-generated** ideas from renowned designers worldwide.\n",
    "\n",
    "I compiled the list of human-generated ideas by manually selecting product design concepts created by renowned designers, awarded prestigious design accolades, or achieving notable commercial success.\n",
    "\n",
    "For AI-generated ideas, I employed various prompting strategies, including Chain-of-Thought, few-shot prompting, question-inspired prompting, attribute-driven prompting, and design methodology prompting to generate diverse innovative product concepts. Based primarily on subjective judgment, I selected 10 good ideas and 10 bad ideas from a pool of 100 AI-generated ideas.\n",
    "\n",
    "![](idea-list.png)\n",
    "\n",
    "\n",
    "\n",
    "With GPT’s assistance, I compared these groups to identify key differences. From this analysis, I distilled a list of characteristics unique to high-quality ideas and pinpointed common pitfalls that AI-generated ideas tend to fall into.\n",
    "\n",
    "\n",
    "### What makes human-generated idea unique?\n",
    "\n",
    "After comparing ideas from different sources, I found out that those high-quality human-generated ideas still stand out among all ideas.\n",
    "\n",
    "#### 1. Humans make connection: Explore linkages and metaphors beyond the surface\n",
    "\n",
    "One differentiator between high-quality human-generated ideas and mediocre AI-generated ideas is that human draws meaningful connections by exploring deep linkages and metaphors between concepts. People might argue that: *LLMs are connection machines! They must outperform humans in this aspect.* I think this is only true from one perspective, that LLMs are good at producing connections on a surface level. Do these connections really help with idea generation? Only a small portion might be helpful. While most connections are just random mixtures of technology buzzwords and relevant terminologies. **LLMs fail to see the deep connections between two seemingly irrelevant concepts.** \n",
    "\n",
    "This task can also be challenging even for a lot of humans, but it’s what sets great product designers and entrepreneurs apart. For example, a product concept designed to enhance focus and block distractions draws connections between **focus sessions** and **immersive flights**. While it would be difficult—though not entirely impossible—for LLMs to make this connection, humans grasp it intuitively. Flights naturally encourage focus since limited internet and signal access create an environment with fewer distractions.\n",
    "\n",
    "#### 2. Humans feel: Appeal to emotions\n",
    "\n",
    "The majority of high-quality human-generated ideas are deeply rooted in **psychological needs**—fear, anxiety, nostalgia, curiosity, and more. These needs serve as the core drivers behind product concepts. While LLMs can recognize keywords related to human emotions from their training data, generating ideas that genuinely resonate with these emotions remains a challenge. It is the **sentimental depth** of product ideas that celebrates humanity and creates concepts that truly connect with people.\n",
    "\n",
    "For example, a human-generated idea involves a photo frame that fades over time. *\"Left untouched, the displayed photograph gradually blurs, mimicking the way memories fade over time. However, when the user touches the frame, the glass slowly clears, bringing the image back into focus.* This design transforms nostalgia into a tactile experience, reinforcing the emotional act of remembering through interaction.\n",
    "\n",
    "#### 3. Humans imagine: Contextualize languages with clear constraints\n",
    "\n",
    "We imagine within reason, guided by clear constraints—we dance with shuckles on our feet. Humans intuitively understand the underlying meaning of words, linking them to real-world objects while considering their affordances and constraints. We can envision how objects function in different contexts, mentally simulate their combinations, and assess their feasibility before they even take shape. But LLMs sometimes generate ideas that are far from implementable. Technology buzzwords such as \"*AI-powered*\", \"*AR-boosted*\", \"*gesture-activated*\" can be seen almost everywhere.\n",
    "\n",
    "For example, the haptic paper packaging designed by Kenya Hara, the art director of MUJI, perfectly leverages the affordances of paper--the diversity in its texture--to create packaging products. *\" Each material—rough, smooth, embossed—corresponds to the product inside, allowing users to “read” the packaging through touch.\"*"
   ]
  },
  {
   "cell_type": "markdown",
   "id": "1d8503fe-23f6-4a1d-be51-165984b50132",
   "metadata": {},
   "source": [
    "\\\n",
    "In the next post, I'll be sharing some insights on some common pitfalls that AI-generated ideas tend to fall into."
   ]
  },
  {
   "cell_type": "code",
   "execution_count": null,
   "id": "6e0af9cd-5404-4285-8785-8748e7082dfc",
   "metadata": {},
   "outputs": [],
   "source": []
  }
 ],
 "metadata": {
  "kernelspec": {
   "display_name": "Python 3-12 (COMM4190)",
   "language": "python",
   "name": "python3-12_comm4190"
  },
  "language_info": {
   "codemirror_mode": {
    "name": "ipython",
    "version": 3
   },
   "file_extension": ".py",
   "mimetype": "text/x-python",
   "name": "python",
   "nbconvert_exporter": "python",
   "pygments_lexer": "ipython3",
   "version": "3.12.8"
  }
 },
 "nbformat": 4,
 "nbformat_minor": 5
}
